{
 "cells": [
  {
   "cell_type": "code",
   "execution_count": 1,
   "id": "f9952a90",
   "metadata": {
    "tags": []
   },
   "outputs": [],
   "source": [
    "%load_ext autoreload\n",
    "%autoreload 2\n",
    "\n",
    "import os\n",
    "from os.path import join as pjoin\n",
    "from datetime import datetime\n",
    "import pingouin as pg\n",
    "import pandas as pd\n",
    "import matplotlib.pyplot as plt\n",
    "import matplotlib as mpl\n",
    "import seaborn as sns\n",
    "import numpy as np\n",
    "from pingouin import ttest\n",
    "\n",
    "from bmp_config import path_data, envcode2env\n",
    "from bmp_behav_proc import *"
   ]
  },
  {
   "cell_type": "markdown",
   "id": "874445a9",
   "metadata": {},
   "source": [
    "# Variability (compare with Tan)"
   ]
  },
  {
   "cell_type": "markdown",
   "id": "b985d646",
   "metadata": {},
   "source": [
    "## corr ES and variance (and other statistics)"
   ]
  },
  {
   "cell_type": "markdown",
   "id": "7e1dfc91",
   "metadata": {},
   "source": [
    "### fixed histlen across subjects"
   ]
  },
  {
   "cell_type": "code",
   "execution_count": 2,
   "id": "0a2c5adc",
   "metadata": {},
   "outputs": [
    {
     "name": "stdout",
     "output_type": "stream",
     "text": [
      "/p/project1/icei-hbp-2022-0017/memerr/data2/dfcs_fixhistlen.pkl\n",
      "2025-05-27 16:46:41.815965\n"
     ]
    }
   ],
   "source": [
    "load = 1\n",
    "if load:\n",
    "    fnf_fhl = pjoin(path_data,'dfcs_fixhistlen.pkl')\n",
    "    print(fnf_fhl)\n",
    "    print( str(datetime.fromtimestamp(os.stat(fnf_fhl).st_mtime)))\n",
    "    dfcs_fixhistlen = pd.read_pickle(fnf_fhl )\n",
    "else:\n",
    "    fnf = pjoin(path_data,'df_all_multi_tsz__.pkl.zip')\n",
    "    print(fnf)\n",
    "    print( str(datetime.fromtimestamp(os.stat(fnf).st_mtime)))\n",
    "    df_all_multi_tsz = pd.read_pickle(fnf)\n",
    "    df = df_all_multi_tsz.query('trial_shift_size == 1 and trial_group_col_calc == \"trialwe\" '\n",
    "                            ' and retention_factor_s == \"0.924\"').copy().sort_values(['subject','trials'])\n",
    "    df,dfall,ES_thr,envv,pert = addBehavCols2(df);\n",
    "    dfc = df.copy()\n",
    "    dfcs,dfcs_fixhistlen,dfcs_fixhistlen_untrunc,histlens  = addWindowStatCols(dfc, ES_thr, \n",
    "                                        varn0s = ['error','error_pscadj','error_pscadj_abs'])\n",
    "    dfcs_fixhistlen, me_pct_excl = truncLargeStats(dfcs_fixhistlen_untrunc, histlens, 5.)"
   ]
  },
  {
   "cell_type": "code",
   "execution_count": 3,
   "id": "39bf984c",
   "metadata": {},
   "outputs": [],
   "source": [
    "import pingouin as pg\n",
    "dfcs_fixhistlen['environment'] = dfcs_fixhistlen['environment'].astype(int)\n",
    "df_ = dfcs_fixhistlen[['environment','subject','trials','error_pscadj_abs_Tan29']]\n",
    "assert not df_.duplicated(['subject','trials']).any()"
   ]
  },
  {
   "cell_type": "code",
   "execution_count": 4,
   "id": "cb618753",
   "metadata": {},
   "outputs": [
    {
     "name": "stdout",
     "output_type": "stream",
     "text": [
      "['mav', 'std', 'invstd', 'mavsq', 'mav_d_std', 'mav_d_var', 'Tan', 'invmavsq', 'invmav', 'std_d_mav', 'invTan']\n"
     ]
    }
   ],
   "source": [
    "all_suffixes = 'mav,std,invstd,mavsq,mav_d_std,mav_d_var,Tan,invmavsq,invmav,std_d_mav,invTan'.split(',')\n",
    "\n",
    "varn0 = 'error_pscadj'\n",
    "n = 3\n",
    "for suffix in all_suffixes:\n",
    "    s = f'{varn0}_{suffix}{n}'\n",
    "    if s not in dfcs_fixhistlen.columns:\n",
    "        print(s)\n",
    "    assert s in dfcs_fixhistlen.columns\n",
    "\n",
    "print( all_suffixes )"
   ]
  },
  {
   "cell_type": "code",
   "execution_count": 5,
   "id": "b8091877",
   "metadata": {},
   "outputs": [],
   "source": [
    "import gc\n",
    "prl = []"
   ]
  },
  {
   "cell_type": "code",
   "execution_count": 6,
   "id": "d6b1feca",
   "metadata": {},
   "outputs": [],
   "source": [
    "# TODO: make prev error abs"
   ]
  },
  {
   "cell_type": "code",
   "execution_count": 11,
   "id": "09228f59",
   "metadata": {},
   "outputs": [
    {
     "data": {
      "text/plain": [
       "Index(['trials', 'phase', 'trigger', 'target_inds', 'perturbation', 'joyX',\n",
       "       'joyY', 'error_distance', 'environment', 'time',\n",
       "       ...\n",
       "       'error_pscadj_abs_invstd39', 'error_pscadj_abs_var39',\n",
       "       'error_pscadj_abs_mavsq39', 'error_pscadj_abs_mav_d_std39',\n",
       "       'error_pscadj_abs_mav_d_var39', 'error_pscadj_abs_Tan39',\n",
       "       'error_pscadj_abs_invmavsq39', 'error_pscadj_abs_invmav39',\n",
       "       'error_pscadj_abs_std_d_mav39', 'error_pscadj_abs_invTan39'],\n",
       "      dtype='object', length=1013)"
      ]
     },
     "execution_count": 11,
     "metadata": {},
     "output_type": "execute_result"
    }
   ],
   "source": [
    "dfcs_fixhistlen.columns"
   ]
  },
  {
   "cell_type": "code",
   "execution_count": 10,
   "id": "371e0a12",
   "metadata": {},
   "outputs": [
    {
     "data": {
      "text/plain": [
       "[]"
      ]
     },
     "execution_count": 10,
     "metadata": {},
     "output_type": "execute_result"
    }
   ],
   "source": [
    "[col for col in dfcs_fixhistlen.columns if col.endswith('error_mav4')]"
   ]
  },
  {
   "cell_type": "code",
   "execution_count": null,
   "id": "2ef3de02",
   "metadata": {
    "code_folding": [],
    "run_control": {
     "marked": false
    }
   },
   "outputs": [
    {
     "name": "stdout",
     "output_type": "stream",
     "text": [
      "594\n"
     ]
    },
    {
     "ename": "KeyError",
     "evalue": "['error_mav3']",
     "output_type": "error",
     "traceback": [
      "\u001b[0;31m---------------------------------------------------------------------------\u001b[0m",
      "\u001b[0;31mKeyError\u001b[0m                                  Traceback (most recent call last)",
      "\u001b[0;32m/tmp/ipykernel_3714050/279193803.py\u001b[0m in \u001b[0;36m?\u001b[0;34m()\u001b[0m\n\u001b[1;32m    130\u001b[0m     prl = Parallel(n_jobs=n_jobs, backend = backend)\\\n\u001b[1;32m    131\u001b[0m         \u001b[0;34m(\u001b[0m\u001b[0mdelayed\u001b[0m\u001b[0;34m(\u001b[0m\u001b[0mrun_model\u001b[0m\u001b[0;34m)\u001b[0m\u001b[0;34m(\u001b[0m \u001b[0;34m(\u001b[0m\u001b[0mdfcs_fixhistlen\u001b[0m\u001b[0;34m,\u001b[0m\u001b[0;34m*\u001b[0m\u001b[0marg\u001b[0m\u001b[0;34m)\u001b[0m \u001b[0;34m)\u001b[0m \u001b[0;32mfor\u001b[0m \u001b[0marg\u001b[0m \u001b[0;32min\u001b[0m \u001b[0margs\u001b[0m\u001b[0;34m)\u001b[0m\u001b[0;34m\u001b[0m\u001b[0;34m\u001b[0m\u001b[0m\n\u001b[1;32m    132\u001b[0m \u001b[0;32melse\u001b[0m\u001b[0;34m:\u001b[0m\u001b[0;34m\u001b[0m\u001b[0;34m\u001b[0m\u001b[0m\n\u001b[1;32m    133\u001b[0m     \u001b[0;32mfor\u001b[0m \u001b[0marg\u001b[0m \u001b[0;32min\u001b[0m \u001b[0margs\u001b[0m\u001b[0;34m:\u001b[0m\u001b[0;34m\u001b[0m\u001b[0;34m\u001b[0m\u001b[0m\n\u001b[0;32m--> 134\u001b[0;31m         \u001b[0mprl\u001b[0m \u001b[0;34m+=\u001b[0m \u001b[0;34m[\u001b[0m\u001b[0mrun_model\u001b[0m\u001b[0;34m(\u001b[0m\u001b[0;34m(\u001b[0m\u001b[0mdfcs_fixhistlen\u001b[0m\u001b[0;34m,\u001b[0m\u001b[0;34m*\u001b[0m\u001b[0marg\u001b[0m\u001b[0;34m)\u001b[0m\u001b[0;34m)\u001b[0m\u001b[0;34m]\u001b[0m\u001b[0;34m\u001b[0m\u001b[0;34m\u001b[0m\u001b[0m\n\u001b[0m\u001b[1;32m    135\u001b[0m \u001b[0;31m#     for arg in args[69:69+1]:\u001b[0m\u001b[0;34m\u001b[0m\u001b[0;34m\u001b[0m\u001b[0m\n\u001b[1;32m    136\u001b[0m \u001b[0;31m#         prl += [run_model((dfcs_fixhistlen,*arg),ret_res=True)]\u001b[0m\u001b[0;34m\u001b[0m\u001b[0;34m\u001b[0m\u001b[0m\n\u001b[1;32m    137\u001b[0m \u001b[0;34m\u001b[0m\u001b[0m\n",
      "\u001b[0;32m/tmp/ipykernel_3714050/279193803.py\u001b[0m in \u001b[0;36m?\u001b[0;34m(args, ret_res)\u001b[0m\n\u001b[1;32m     15\u001b[0m \u001b[0;32mdef\u001b[0m \u001b[0mrun_model\u001b[0m\u001b[0;34m(\u001b[0m\u001b[0margs\u001b[0m\u001b[0;34m,\u001b[0m \u001b[0mret_res\u001b[0m \u001b[0;34m=\u001b[0m \u001b[0;32mFalse\u001b[0m\u001b[0;34m)\u001b[0m\u001b[0;34m:\u001b[0m\u001b[0;34m\u001b[0m\u001b[0;34m\u001b[0m\u001b[0m\n\u001b[1;32m     16\u001b[0m     \u001b[0mdfcs_fixhistlen\u001b[0m\u001b[0;34m,\u001b[0m \u001b[0mcocoln\u001b[0m\u001b[0;34m,\u001b[0m \u001b[0mstd_mavsz_\u001b[0m\u001b[0;34m,\u001b[0m \u001b[0mvarn0\u001b[0m\u001b[0;34m,\u001b[0m \u001b[0mvarn_suffix\u001b[0m \u001b[0;34m=\u001b[0m \u001b[0margs\u001b[0m\u001b[0;34m\u001b[0m\u001b[0;34m\u001b[0m\u001b[0m\n\u001b[1;32m     17\u001b[0m     \u001b[0mvarn\u001b[0m \u001b[0;34m=\u001b[0m \u001b[0;34mf'\u001b[0m\u001b[0;34m{\u001b[0m\u001b[0mvarn0\u001b[0m\u001b[0;34m}\u001b[0m\u001b[0;34m_\u001b[0m\u001b[0;34m{\u001b[0m\u001b[0mvarn_suffix\u001b[0m\u001b[0;34m}\u001b[0m\u001b[0;34m{\u001b[0m\u001b[0mstd_mavsz_\u001b[0m\u001b[0;34m}\u001b[0m\u001b[0;34m'\u001b[0m\u001b[0;34m\u001b[0m\u001b[0;34m\u001b[0m\u001b[0m\n\u001b[0;32m---> 18\u001b[0;31m     \u001b[0mdf_\u001b[0m \u001b[0;34m=\u001b[0m \u001b[0mdfcs_fixhistlen\u001b[0m\u001b[0;34m.\u001b[0m\u001b[0mdropna\u001b[0m\u001b[0;34m(\u001b[0m\u001b[0msubset\u001b[0m\u001b[0;34m=\u001b[0m\u001b[0;34m[\u001b[0m\u001b[0mvarn\u001b[0m\u001b[0;34m,\u001b[0m \u001b[0;34m'err_sens'\u001b[0m\u001b[0;34m]\u001b[0m\u001b[0;34m)\u001b[0m\u001b[0;34m\u001b[0m\u001b[0;34m\u001b[0m\u001b[0m\n\u001b[0m\u001b[1;32m     19\u001b[0m     \u001b[0mdf_\u001b[0m \u001b[0;34m=\u001b[0m \u001b[0mdf_\u001b[0m\u001b[0;34m[\u001b[0m\u001b[0;34m~\u001b[0m\u001b[0mnp\u001b[0m\u001b[0;34m.\u001b[0m\u001b[0misinf\u001b[0m\u001b[0;34m(\u001b[0m\u001b[0mdf_\u001b[0m\u001b[0;34m[\u001b[0m\u001b[0mvarn\u001b[0m\u001b[0;34m]\u001b[0m\u001b[0;34m)\u001b[0m\u001b[0;34m]\u001b[0m\u001b[0;34m\u001b[0m\u001b[0;34m\u001b[0m\u001b[0m\n\u001b[1;32m     20\u001b[0m \u001b[0;34m\u001b[0m\u001b[0m\n\u001b[1;32m     21\u001b[0m     \u001b[0mexcfmt\u001b[0m \u001b[0;34m=\u001b[0m \u001b[0;32mNone\u001b[0m\u001b[0;34m\u001b[0m\u001b[0;34m\u001b[0m\u001b[0m\n",
      "\u001b[0;32m/p/software/default/stages/2025/software/SciPy-bundle/2024.05-gcccoreflexiblas-13.3.0-3.4.4/lib/python3.12/site-packages/pandas/core/frame.py\u001b[0m in \u001b[0;36m?\u001b[0;34m(self, axis, how, thresh, subset, inplace, ignore_index)\u001b[0m\n\u001b[1;32m   6666\u001b[0m             \u001b[0max\u001b[0m \u001b[0;34m=\u001b[0m \u001b[0mself\u001b[0m\u001b[0;34m.\u001b[0m\u001b[0m_get_axis\u001b[0m\u001b[0;34m(\u001b[0m\u001b[0magg_axis\u001b[0m\u001b[0;34m)\u001b[0m\u001b[0;34m\u001b[0m\u001b[0;34m\u001b[0m\u001b[0m\n\u001b[1;32m   6667\u001b[0m             \u001b[0mindices\u001b[0m \u001b[0;34m=\u001b[0m \u001b[0max\u001b[0m\u001b[0;34m.\u001b[0m\u001b[0mget_indexer_for\u001b[0m\u001b[0;34m(\u001b[0m\u001b[0msubset\u001b[0m\u001b[0;34m)\u001b[0m\u001b[0;34m\u001b[0m\u001b[0;34m\u001b[0m\u001b[0m\n\u001b[1;32m   6668\u001b[0m             \u001b[0mcheck\u001b[0m \u001b[0;34m=\u001b[0m \u001b[0mindices\u001b[0m \u001b[0;34m==\u001b[0m \u001b[0;34m-\u001b[0m\u001b[0;36m1\u001b[0m\u001b[0;34m\u001b[0m\u001b[0;34m\u001b[0m\u001b[0m\n\u001b[1;32m   6669\u001b[0m             \u001b[0;32mif\u001b[0m \u001b[0mcheck\u001b[0m\u001b[0;34m.\u001b[0m\u001b[0many\u001b[0m\u001b[0;34m(\u001b[0m\u001b[0;34m)\u001b[0m\u001b[0;34m:\u001b[0m\u001b[0;34m\u001b[0m\u001b[0;34m\u001b[0m\u001b[0m\n\u001b[0;32m-> 6670\u001b[0;31m                 \u001b[0;32mraise\u001b[0m \u001b[0mKeyError\u001b[0m\u001b[0;34m(\u001b[0m\u001b[0mnp\u001b[0m\u001b[0;34m.\u001b[0m\u001b[0marray\u001b[0m\u001b[0;34m(\u001b[0m\u001b[0msubset\u001b[0m\u001b[0;34m)\u001b[0m\u001b[0;34m[\u001b[0m\u001b[0mcheck\u001b[0m\u001b[0;34m]\u001b[0m\u001b[0;34m.\u001b[0m\u001b[0mtolist\u001b[0m\u001b[0;34m(\u001b[0m\u001b[0;34m)\u001b[0m\u001b[0;34m)\u001b[0m\u001b[0;34m\u001b[0m\u001b[0;34m\u001b[0m\u001b[0m\n\u001b[0m\u001b[1;32m   6671\u001b[0m             \u001b[0magg_obj\u001b[0m \u001b[0;34m=\u001b[0m \u001b[0mself\u001b[0m\u001b[0;34m.\u001b[0m\u001b[0mtake\u001b[0m\u001b[0;34m(\u001b[0m\u001b[0mindices\u001b[0m\u001b[0;34m,\u001b[0m \u001b[0maxis\u001b[0m\u001b[0;34m=\u001b[0m\u001b[0magg_axis\u001b[0m\u001b[0;34m)\u001b[0m\u001b[0;34m\u001b[0m\u001b[0;34m\u001b[0m\u001b[0m\n\u001b[1;32m   6672\u001b[0m \u001b[0;34m\u001b[0m\u001b[0m\n\u001b[1;32m   6673\u001b[0m         \u001b[0;32mif\u001b[0m \u001b[0mthresh\u001b[0m \u001b[0;32mis\u001b[0m \u001b[0;32mnot\u001b[0m \u001b[0mlib\u001b[0m\u001b[0;34m.\u001b[0m\u001b[0mno_default\u001b[0m\u001b[0;34m:\u001b[0m\u001b[0;34m\u001b[0m\u001b[0;34m\u001b[0m\u001b[0m\n",
      "\u001b[0;31mKeyError\u001b[0m: ['error_mav3']"
     ]
    }
   ],
   "source": [
    "# run long calc\n",
    "from joblib import Parallel, delayed\n",
    "from itertools import product\n",
    "import statsmodels.api as sm\n",
    "import statsmodels.formula.api as smf\n",
    "import warnings\n",
    "from statsmodels.tools.sm_exceptions import ConvergenceWarning    \n",
    "from numpy.linalg import LinAlgError\n",
    "import traceback\n",
    "import gc\n",
    "gc.collect()\n",
    "n_jobs_inside = 1\n",
    "\n",
    "# Define the function to be executed in parallel\n",
    "def run_model(args, ret_res = False):\n",
    "    dfcs_fixhistlen, cocoln, std_mavsz_, varn0, varn_suffix = args\n",
    "    varn = f'{varn0}_{varn_suffix}{std_mavsz_}'\n",
    "    df_ = dfcs_fixhistlen.dropna(subset=[varn, 'err_sens'])\n",
    "    df_ = df_[~np.isinf(df_[varn])]\n",
    "\n",
    "    excfmt = None\n",
    "    nstarts = 1\n",
    "    result = None\n",
    "    if cocoln == 'None':\n",
    "        s,s2 = f\"err_sens ~ {varn}\",\"1\"\n",
    "        model = smf.mixedlm(s, df_, \n",
    "                    groups=df_[\"subject\"])\n",
    "        with warnings.catch_warnings():\n",
    "            warnings.filterwarnings('ignore',category=ConvergenceWarning)\n",
    "            result = model.fit()\n",
    "        results = {(s,s2): result}\n",
    "    else:\n",
    "        flas = []\n",
    "        s,s2 = f\"err_sens ~ C({cocoln}) + {varn} + C({cocoln}) * {varn} + {varn} * prev_error_pscadj_abs\",\\\n",
    "            f\"~C({cocoln})\"; flas += [(s,s2)]\n",
    "        s,s2 = f\"err_sens ~ C({cocoln}) + {varn} + C({cocoln}) * {varn} + {varn} * prev_error_pscadj_abs\",\\\n",
    "            f\"1\"; flas += [(s,s2)]\n",
    "        s,s2 = f\"err_sens ~ C({cocoln}) + {varn} + C({cocoln}) * {varn}\", f\"~C({cocoln})\"; flas += [(s,s2)]\n",
    "        s,s2 = f\"err_sens ~ C({cocoln}) + {varn} + C({cocoln}) * {varn}\",\"1\";  flas += [(s,s2)]\n",
    "        \n",
    "        s,s2 = f\"err_sens ~ C({cocoln}) + {varn}\",f\"~C({cocoln})\"; flas += [(s,s2)]\n",
    "        s,s2 = f\"err_sens ~ C({cocoln}) + {varn}\",\"1\"; flas += [(s,s2)]        \n",
    "        \n",
    "     \n",
    "        results = {}\n",
    "        for s,s2 in flas:\n",
    "            try:                \n",
    "                model = smf.mixedlm(s, df_.copy(), \n",
    "                            groups=df_[\"subject\"], re_formula=s2)\n",
    "                with warnings.catch_warnings(record=True) as w:\n",
    "                    ###warnings.filterwarnings('ignore',category=ConvergenceWarning)     \n",
    "                    # n_jobs argument does not really work :(\n",
    "                    result = model.fit(n_jobs =n_jobs_inside)\n",
    "                    wmess = []\n",
    "                    for warning in w:\n",
    "                        wmess += [warning.message]\n",
    "                    result.converged2 = result.converged and \\\n",
    "                        ( not (result.params.isna().any() | result.pvalues.isna().any()) )\n",
    "                    result.wmess = wmess\n",
    "\n",
    "            except LinAlgError as le:\n",
    "                excfmt = traceback.format_exc()\n",
    "                result = None\n",
    "            results[(s,s2)] = result\n",
    "        \n",
    "    s2summary = {}\n",
    "    for stpl,result in results.items():        \n",
    "        if (result is not None) and result.converged:\n",
    "            #result.remove_data()\n",
    "            summary = result.summary()\n",
    "            summary.tables[0].loc[5,2] = 'Converged2:'\n",
    "            summary.tables[0].loc[5,3] = 'Yes' if result.converged2 else 'No'\n",
    "            summary.wmess = result.wmess\n",
    "            summary.params = result.params\n",
    "            summary.pvalues = result.pvalues\n",
    "        else:\n",
    "            summary = None\n",
    "        s2summary[stpl] = summary\n",
    "    print(args[1:])\n",
    "    r = {'cocoln': cocoln, 'histlen': std_mavsz_,\n",
    "            'varn': varn, 'varn0':varn0, 'varn_suffix':varn_suffix,             \n",
    "             'excfmt':excfmt,\n",
    "            's2summary': s2summary, 'retention_factor':df_.iloc[0]['retention_factor_s']}\n",
    "            #'res': result}\n",
    "            #'nstarts':nstarts,\n",
    "    if ret_res:\n",
    "        r['s2res'] = results\n",
    "    return r\n",
    "\n",
    "N = 25\n",
    "# Create args array using product\n",
    "cocols = ['None', 'env', 'ps2_']\n",
    "#cocols = [ 'env'] #, 'ps2_']\n",
    "#std_mavsz_range = range(2, 30)\n",
    "std_mavsz_range = list(range(3,N)) + list( range(N, 40, 3) )\n",
    "#std_mavsz_range = range(2, 20)\n",
    "#std_mavsz_range = range(2, 12)\n",
    "#std_mavsz_range = range(2, 3)\n",
    "varn0s = ['error_pscadj', 'error_pscadj_abs']\n",
    "#varn_suffixes = ['std', 'invstd', 'mavsq', 'mav_d_std', 'mav_d_var', 'Tan']\n",
    "varn_suffixes = all_suffixes\n",
    "\n",
    "# shorter\n",
    "cocols = [ 'env', 'ps2_']\n",
    "#varn0s = ['error'] #, 'error_pscadj', 'error_pscadj_abs']\n",
    "#varn_suffixes = ['std', 'invstd', 'Tan']\n",
    "#N_ = 10\n",
    "#std_mavsz_range = list(range(3,N_)) + list( range(N_, 32, 3) )\n",
    "\n",
    "# #std_mavsz_range = range(2, 15)\n",
    "# std_mavsz_range = range(2, 30)\n",
    "# varn0s = ['error_pscadj_abs']\n",
    "# #varn0s = ['error_pscadj', 'error_pscadj_abs']\n",
    "# #cocols = [ 'env', 'ps2_']\n",
    "# #cocols = [ 'ps2_']\n",
    "# cocols = [ 'env']\n",
    "\n",
    "args = list(product(cocols, std_mavsz_range, varn0s, varn_suffixes))\n",
    "print(len(args))\n",
    "# Number of processes\n",
    "#n_jobs = 10  # Use all available CPUs even with one job\n",
    "#n_jobs = 5\n",
    "n_jobs = 1\n",
    "\n",
    "ind = 0\n",
    "if n_jobs > 1:\n",
    "    # Execute in parallel\n",
    "    backend = 'multiprocessing' # 'loky'\n",
    "    #backend = 'loky' \n",
    "    prl = Parallel(n_jobs=n_jobs, backend = backend)\\\n",
    "        (delayed(run_model)( (dfcs_fixhistlen,*arg) ) for arg in args)\n",
    "else:\n",
    "    for arg in args:\n",
    "        prl += [run_model((dfcs_fixhistlen,*arg))]\n",
    "#     for arg in args[69:69+1]:\n",
    "#         prl += [run_model((dfcs_fixhistlen,*arg),ret_res=True)]\n",
    "        \n",
    "        if len(prl) >= 100:            \n",
    "            s_ = str(datetime.now())[:-7].replace(' ','_')\n",
    "            np.savez( pjoin(path_data, f'prl_{ind}_{s_}'), prl )\n",
    "            ind += 1\n",
    "            del prl\n",
    "            gc.collect()\n",
    "            prl = []\n",
    "    # to save the last\n",
    "    s_ = str(datetime.now())[:-7].replace(' ','_')\n",
    "    np.savez( pjoin(path_data, f'prl_{ind+1}_{s_}'), prl )\n",
    "\n",
    "\n",
    "gc.collect()"
   ]
  },
  {
   "cell_type": "code",
   "execution_count": null,
   "id": "1f97b71a",
   "metadata": {},
   "outputs": [],
   "source": [
    "print(len(args))"
   ]
  },
  {
   "cell_type": "code",
   "execution_count": null,
   "id": "3f2663ed",
   "metadata": {},
   "outputs": [],
   "source": [
    "dif = (dfcs_fixhistlen['error_pscadj_std2'] - dfcs_fixhistlen['error_pscadj_abs_std2'])#\n",
    "display(dif.describe())\n",
    "dif.hist()"
   ]
  }
 ],
 "metadata": {
  "kernelspec": {
   "display_name": ".venv",
   "language": "python",
   "name": "python3"
  },
  "language_info": {
   "codemirror_mode": {
    "name": "ipython",
    "version": 3
   },
   "file_extension": ".py",
   "mimetype": "text/x-python",
   "name": "python",
   "nbconvert_exporter": "python",
   "pygments_lexer": "ipython3",
   "version": "3.12.3"
  }
 },
 "nbformat": 4,
 "nbformat_minor": 5
}
