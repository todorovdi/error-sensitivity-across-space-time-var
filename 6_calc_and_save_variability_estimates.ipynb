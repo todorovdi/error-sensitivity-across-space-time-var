{
 "cells": [
  {
   "cell_type": "code",
   "execution_count": null,
   "id": "75ab077b",
   "metadata": {},
   "outputs": [],
   "source": [
    "%load_ext autoreload\n",
    "%autoreload 2\n",
    "\n",
    "import os\n",
    "import pandas as pd\n",
    "from os.path import join as pjoin\n",
    "from bmp_config import path_data, ps_2nice\n",
    "from bmp_behav_proc import *\n",
    "from datetime import datetime\n",
    "fnf = pjoin(path_data,'df_all_multi_tsz__.pkl.zip')\n",
    "print(fnf)\n",
    "print( str(datetime.fromtimestamp(os.stat(fnf).st_mtime)))\n",
    "df_all_multi_tsz = pd.read_pickle(fnf)\n",
    "df = df_all_multi_tsz.query('trial_shift_size == 1 and trial_group_col_calc == \"trialwe\" '\n",
    "                           ' and retention_factor_s == \"0.924\"').copy().sort_values(['subject','trials'])\n",
    "df,dfall,ES_thr,envv,pert = addBehavCols2(df);"
   ]
  },
  {
   "cell_type": "markdown",
   "id": "52d396bb",
   "metadata": {},
   "source": [
    "# Variability (compare with Tan)"
   ]
  },
  {
   "cell_type": "code",
   "execution_count": null,
   "id": "1322aecd",
   "metadata": {},
   "outputs": [],
   "source": [
    "dfc = df.copy()\n",
    "assert not dfc.duplicated(['subject','trials']).any()\n",
    "\n",
    "## corr ES and variance (and other statistics), fixed histlen across subjects\n",
    "dfcs,dfcs_fixhistlen,dfcs_fixhistlen_untrunc,histlens  = addWindowStatCols(dfc, ES_thr)\n",
    "# this function just sets to NaNs large values\n",
    "# me_pct_excl is info on what was excluded: mean_excl - mean percentage of excluded, std_excl - std percentage of excluded\n",
    "dfcs_fixhistlen, me_pct_excl = truncLargeStats(dfcs_fixhistlen_untrunc, histlens, std_mult = 5.)"
   ]
  },
  {
   "cell_type": "code",
   "execution_count": null,
   "id": "9920b5da",
   "metadata": {},
   "outputs": [],
   "source": [
    "save = 0\n",
    "if save:\n",
    "    dfcs_fixhistlen_untrunc.to_pickle(pjoin(path_data,'dfcs_fixhistlen_untrunc.pkl') )\n",
    "    dfcs_fixhistlen.to_pickle(pjoin(path_data,'dfcs_fixhistlen.pkl') )\n",
    "    me_pct_excl.to_pickle(pjoin(path_data,'me_pct_excl.pkl') )\n",
    "    print('saved')\n",
    "else:\n",
    "    print('NOT saved')"
   ]
  }
 ],
 "metadata": {
  "kernelspec": {
   "display_name": ".venv",
   "language": "python",
   "name": "python3"
  },
  "language_info": {
   "codemirror_mode": {
    "name": "ipython",
    "version": 3
   },
   "file_extension": ".py",
   "mimetype": "text/x-python",
   "name": "python",
   "nbconvert_exporter": "python",
   "pygments_lexer": "ipython3",
   "version": "3.12.3"
  }
 },
 "nbformat": 4,
 "nbformat_minor": 5
}
