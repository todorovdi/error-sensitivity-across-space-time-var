{
 "cells": [
  {
   "cell_type": "code",
   "execution_count": null,
   "id": "f9952a90",
   "metadata": {
    "tags": []
   },
   "outputs": [],
   "source": [
    "%load_ext autoreload\n",
    "%autoreload 2\n",
    "\n",
    "from os.path import join as pjoin\n",
    "import pandas as pd\n",
    "from datetime import datetime\n",
    "from bmp_config import path_data\n",
    "from bmp_behav_proc import *\n",
    "\n",
    "fnf = pjoin(path_data,'df_all_multi_tsz__.pkl.zip')\n",
    "print(fnf)\n",
    "print( str(datetime.fromtimestamp(os.stat(fnf).st_mtime)))\n",
    "df_all_multi_tsz = pd.read_pickle(fnf)\n",
    "df = df_all_multi_tsz.query('trial_shift_size == 1 and trial_group_col_calc == \"trialwe\" '\n",
    "                           ' and retention_factor_s == \"0.924\"').copy().sort_values(['subject','trials'])\n",
    "df,dfall,ES_thr,envv,pert = addBehavCols2(df)\n",
    "assert df.groupby('subject', observed=True).size().min() == 768"
   ]
  },
  {
   "cell_type": "markdown",
   "id": "893a755f",
   "metadata": {
    "heading_collapsed": true,
    "jp-MarkdownHeadingCollapsed": true
   },
   "source": [
    "## No savings"
   ]
  },
  {
   "cell_type": "code",
   "execution_count": null,
   "id": "e330001f",
   "metadata": {},
   "outputs": [],
   "source": [
    "checkSavingsNIH(dfall)"
   ]
  }
 ],
 "metadata": {
  "celltoolbar": "Tags",
  "kernelspec": {
   "display_name": ".venv",
   "language": "python",
   "name": "python3"
  },
  "language_info": {
   "codemirror_mode": {
    "name": "ipython",
    "version": 3
   },
   "file_extension": ".py",
   "mimetype": "text/x-python",
   "name": "python",
   "nbconvert_exporter": "python",
   "pygments_lexer": "ipython3",
   "version": "3.12.3"
  }
 },
 "nbformat": 4,
 "nbformat_minor": 5
}
