{
 "cells": [
  {
   "cell_type": "code",
   "execution_count": null,
   "id": "ba4df0a2-2b3e-4c23-ab7c-87db4ae69524",
   "metadata": {},
   "outputs": [],
   "source": [
    "%load_ext autoreload\n",
    "%autoreload 2\n",
    "\n",
    "import os\n",
    "import pandas as pd\n",
    "import matplotlib.pyplot as plt\n",
    "import matplotlib as mpl\n",
    "import seaborn as sns\n",
    "import statsmodels.api as sm\n",
    "import pingouin as pg\n",
    "from os.path import join as pjoin\n",
    "from bmp_config import path_data, ps_2nice\n",
    "from bmp_behav_proc import *\n",
    "from datetime import datetime\n",
    "\n",
    "fnf = pjoin(path_data,'df_all_multi_tsz__.pkl.zip')\n",
    "print(fnf)\n",
    "print( str(datetime.fromtimestamp(os.stat(fnf).st_mtime)))\n",
    "df_all_multi_tsz = pd.read_pickle(fnf)\n",
    "df = df_all_multi_tsz.query('trial_shift_size == 1 and trial_group_col_calc == \"trialwe\" '\n",
    "                           ' and retention_factor_s == \"0.924\"').copy().sort_values(['subject','trials'])\n",
    "df,dfall,ES_thr,envv,pert = addBehavCols2(df);\n",
    "\n",
    "dfall_not0trial = dfall.query('trialwpertstage_wb > 0').copy()"
   ]
  },
  {
   "cell_type": "markdown",
   "id": "9dd1aa4f-2905-49ef-92e1-2d7c5d801323",
   "metadata": {},
   "source": [
    "# Fig 3"
   ]
  },
  {
   "cell_type": "code",
   "execution_count": null,
   "id": "32534a6f-f9f6-46ca-8b64-209d2b898381",
   "metadata": {},
   "outputs": [],
   "source": [
    "# compute covariance and normalize it\n",
    "def f(df_):\n",
    "    r = np.cov( df_['err_sens'].values, df_['prev_error_abs'].values  )\n",
    "    return r[0,1] #/ r[1,1]\n",
    "    \n",
    "covs_prevabserr_per_subj = dfall_not0trial.groupby(['subject','env'], observed=True).apply(f, include_groups=False)\n",
    "covs_prevabserr_per_subj = covs_prevabserr_per_subj.to_frame().reset_index().rename(columns={0:'covabsprev'})\n",
    "\n",
    "display(covs_prevabserr_per_subj.iloc[:6])\n",
    "dfall_aug = dfall_not0trial.merge(covs_prevabserr_per_subj, on = ['subject','env'])\n",
    "\n",
    "dfall_aug = dfall_aug.assign(err_sens_prevabserrcorr = \\\n",
    "            dfall_aug['err_sens'] - dfall_aug['prev_error_abs'] * dfall_aug['covabsprev'])"
   ]
  },
  {
   "cell_type": "code",
   "execution_count": null,
   "id": "a1b7c45d-10d0-44d3-a6bc-5b00252fc9d6",
   "metadata": {
    "scrolled": true
   },
   "outputs": [],
   "source": [
    "dfall_aug = dfall_aug.reset_index().sort_values(['subject_ind','trial_index'])\n",
    "if 'level_0' in dfall_aug.columns:\n",
    "    dfall_aug = dfall_aug.drop(columns='level_0')\n",
    "use_const = True # it has to be there\n",
    "# compute residual from OLS\n",
    "def f(df_):\n",
    "    # Step 1: Fit a regression model for ES on preverrabs\n",
    "    preverr = df_['prev_error_abs']  # Adds a constant term to the predictor\n",
    "    if use_const:\n",
    "        preverr = sm.add_constant(preverr)  # Adds a constant term to the predictor\n",
    "    model1 = sm.OLS(df_['err_sens'], preverr).fit()\n",
    "\n",
    "    trial = df_['trialwpertstage_wb']\n",
    "    if use_const:\n",
    "        trial = sm.add_constant(trial)  # Adds a constant term to the predictor\n",
    "    model2 = sm.OLS(df_['err_sens'], trial).fit()\n",
    "\n",
    "    #X3 = sm.add_constant(df_['trial_index'])  # Adds a constant term to the predictor\n",
    "    model3 = sm.OLS(df_['trialwpertstage_wb'], preverr).fit()\n",
    "\n",
    "    dftmp = pd.DataFrame( {'trial_index':df_['trial_index'].values, 'resid1':model1.resid, 'resid2':model2.resid, \n",
    "                           'resid3':model3.resid } )\n",
    "    return dftmp\n",
    "    #return pd.DataFrame( dict(zip(['trial_index','resid'], [df_['trial_index'].values ,model.resid] ) ) )\n",
    "\n",
    "groupcol = 'ps2_'\n",
    "#groupcol = 'pert_stage'\n",
    "dfr = dfall_aug.reset_index().groupby(['subject',groupcol], observed=True).\\\n",
    "    apply(f, include_groups=False).reset_index()\n",
    "#dfall = dfall.set_index(['subject','trial_index']) \n",
    "dfall_aug = dfall_aug.set_index(['subject','trial_index']) \n",
    "dfall_aug['err_sens_prev_error_abs_resid'] = dfr.set_index(['subject','trial_index']) ['resid1']\n",
    "dfall_aug['err_sens_trial_resid']          = dfr.set_index(['subject','trial_index']) ['resid2']\n",
    "dfall_aug['trial_prev_error_abs_resid']    = dfr.set_index(['subject','trial_index']) ['resid3']\n",
    "\n",
    "#dfall = dfall.reset_index()\n",
    "dfall_aug = dfall_aug.reset_index()"
   ]
  },
  {
   "cell_type": "code",
   "execution_count": null,
   "id": "cf8baa5b",
   "metadata": {},
   "outputs": [],
   "source": [
    "nb = 60\n",
    "dfall_aug['trial_prev_error_abs_resid_bin'] = pd.cut(dfall_aug['trial_prev_error_abs_resid'], bins = nb)\n",
    "dfall_aug['trial_prev_error_abs_resid_binmid'] = dfall_aug['trial_prev_error_abs_resid_bin'].apply(lambda interval: interval.mid)\n",
    "from figure.plots import relplot_multi\n",
    "fg,_ = relplot_multi(data=dfall_aug, ys=['err_sens_prev_error_abs_resid' ], \n",
    "              x='trial_prev_error_abs_resid_binmid', col='ps2_',\n",
    "              kind='line',facet_kws={'sharex':False}, errorbar='sd');#, row='pert_stage_wb',)\n",
    "fg.refline(y=0)"
   ]
  },
  {
   "cell_type": "code",
   "execution_count": null,
   "id": "d0a926ca",
   "metadata": {},
   "outputs": [],
   "source": [
    "from figure.plots import relplot_multi\n",
    "fg,_ = relplot_multi(data=dfall_aug, ys=['err_sens_prev_error_abs_resid' ], \n",
    "              x='trial_prev_error_abs_resid_binmid', col='ps2_',\n",
    "              kind='line',facet_kws={'sharex':False}, errorbar='sd');#, row='pert_stage_wb',)\n",
    "fg.refline(y=0)"
   ]
  },
  {
   "cell_type": "code",
   "execution_count": null,
   "id": "d3ce6051-1013-4b35-85b6-b2e34ab73b7c",
   "metadata": {},
   "outputs": [],
   "source": [
    "# calculate correlations (just to print numbers in the corner)\n",
    "print('Comparing correlation values with zero')\n",
    "for method in ['spearman']:\n",
    "    pcorrs_per_subj_me_0,_ = corrMean(dfall_aug, covar = 'prev_error_abs', \n",
    "                               stagecol = 'ps2_', method=method)\n",
    "    \n",
    "    corrs_per_subj_me_,corrs_per_subj  = corrMean(dfall_aug, stagecol = 'ps2_', method=method)\n",
    "    pcorrs_per_subj_me_2,pcorrs_per_subj = corrMean(dfall_aug, coln='err_sens_prev_error_abs_resid', \n",
    "            coltocorr='trial_prev_error_abs_resid', stagecol = 'ps2_', method=method)\n",
    "    \n",
    "    # stats for Fig 3 caption\n",
    "    #from behav_proc import compare0\n",
    "    def f(df):\n",
    "        if len(df) == 0:\n",
    "            return None\n",
    "        ttrs = compare0(df, 'r', cols_addstat=['r'])\n",
    "        return ttrs\n",
    "    \n",
    "    #print(getAddInfo())\n",
    "    \n",
    "    print('ps_-sep corr')\n",
    "    ttrs = corrs_per_subj.\\\n",
    "        groupby(['method','ps2_']).apply(f, include_groups=False)\n",
    "    ttrs = multi_comp_corr(ttrs.reset_index(), 'holm')\n",
    "    corrs_gt0 = ttrs.query('alt == \"greater\"').set_index('ps2_') # for later\n",
    "    corrs_sig = ttrs.query('pval <= 0.05').reset_index()\n",
    "    #cols = ['method','ps2_','dof','T','pval','alt','ttstr','r_mean', 'r_std']\n",
    "    cols = ['method','ps2_','ttstr','r_mean','pval', 'r_std','mc_corr_method']\n",
    "    with pd.option_context('display.precision', 2):\n",
    "        display(corrs_sig[cols])\n",
    "    \n",
    "    print('ps_-sep partial corr')\n",
    "    ttrs = pcorrs_per_subj.\\\n",
    "        groupby(['method','ps2_']).apply(f, include_groups=False)\n",
    "    ttrs = multi_comp_corr(ttrs.reset_index(), 'holm')\n",
    "    pcorrs_gt0 = ttrs.query('alt == \"greater\"').set_index('ps2_') # for later\n",
    "    pcorrs_sig = ttrs.query('pval <= 0.05').reset_index()\n",
    "    with pd.option_context('display.precision', 2):\n",
    "        display(pcorrs_sig[cols])"
   ]
  },
  {
   "cell_type": "code",
   "execution_count": null,
   "id": "d2d58781-3146-403d-97d2-131abc2ceeb8",
   "metadata": {
    "scrolled": true
   },
   "outputs": [],
   "source": [
    "display(pcorrs_per_subj_me_2.loc[('mestd*0',slice(None) )].loc['pre'])"
   ]
  },
  {
   "cell_type": "code",
   "execution_count": null,
   "id": "b849a515-9bc0-4e37-b891-1f6de5617b76",
   "metadata": {},
   "outputs": [],
   "source": [
    "display(pcorrs_per_subj_me_0,pcorrs_per_subj_me_2)\n",
    "print ( (pcorrs_per_subj_me_0['r'] - pcorrs_per_subj_me_2['r']).abs().max() )\n",
    "print( (pcorrs_per_subj_me_0['pval'] - pcorrs_per_subj_me_2['pval']).abs().max() )"
   ]
  },
  {
   "cell_type": "code",
   "execution_count": null,
   "id": "bdcb989a-df91-4efc-a76f-c76f85f42bf9",
   "metadata": {},
   "outputs": [],
   "source": [
    "pswb2r_ = corrs_per_subj_me_.loc[('mestd*0',slice(None))]\n",
    "pswb2r = pswb2r_.to_dict()\n",
    "pswb2pr_ = pcorrs_per_subj_me_2.loc[('mestd*0',slice(None))] # corr of two residuals\n",
    "pswb2pr = pswb2pr_.to_dict()\n",
    "\n",
    "print(pswb2r_[['r','pval','method']]) #mean pval\n",
    "print(pswb2pr_[['r','pval','method']]) #mean pval\n",
    "\n",
    "def f(row):\n",
    "    #ps = row['pert_stage_wb']\n",
    "    ps = row['ps2_']\n",
    "    r = pswb2r['r'][ps]\n",
    "    std_x = pswb2r['std_x'][ps]\n",
    "    mean_x = pswb2r['mean_x'][ps]\n",
    "    std_y = pswb2r['std_y'][ps]\n",
    "    mean_y = pswb2r['mean_y'][ps]\n",
    "    xs = row['trialwpertstage_wb']\n",
    "    return mean_y + r * (xs - mean_x) / std_x * std_y \n",
    "dfall_aug['pred'] = dfall_aug.apply(f, axis=1)\n",
    "#corrs_per_subj_me_ES['r'] * dfc['error_abs']\n",
    "\n",
    "def f(row):\n",
    "    #ps = row['pert_stage_wb']\n",
    "    ps = row['ps2_']\n",
    "    if ps == -1:\n",
    "        return None\n",
    "    r = pswb2pr['r'][ps]\n",
    "    std_x = pswb2pr['std_x'][ps]\n",
    "    mean_x = pswb2pr['mean_x'][ps]\n",
    "    std_y = pswb2pr['std_y'][ps]\n",
    "    mean_y = pswb2pr['mean_y'][ps]\n",
    "    #mean_z =  pswb2pr['mean_z'][ps]\n",
    "    xs = row['trial_prev_error_abs_resid']\n",
    "    return mean_y + r * (xs - mean_x) / std_x * std_y# + mean_z\n",
    "dfall_aug['ppred'] = dfall_aug.apply(f, axis=1)"
   ]
  },
  {
   "cell_type": "code",
   "execution_count": null,
   "id": "8ee771e2-7d25-4a3f-92d3-bfd4551d3bfc",
   "metadata": {},
   "outputs": [],
   "source": [
    "#hue_order = subenv2color.keys() #dfall_aug['pert_stage_wb'].unique()\n",
    "col_order = ['pre', 'pert', 'washout', 'rnd']\n",
    "#hues = [[0],[1,3],[2,4],[5]]\n",
    "hues = None\n",
    "coord_let = (0,1)\n",
    "coord_let_shift = (-50,20)\n",
    "#palette=['blue', 'orange', 'green', 'olive','cyan','brown']\n",
    "from figure import subenv2color\n",
    "hue_order, palette = list(subenv2color.keys()), list(subenv2color.values())\n",
    "# TODO: start of pert\n",
    "# TODO: sd instead of se\n",
    "#df_ = dfc.query('trial_shift_size == 1')\n",
    "#df_ = dfc.query('trial_shift_size == 1')\n",
    "\n",
    "from figure.plots import make_fig3_v2\n",
    "#with sns.plotting_context(font_scale=10.5):\n",
    "fnfbs = make_fig3_v2(dfall_aug, palette, hue_order, col_order, ps_2nice, \n",
    "    hues, pswb2r, pswb2pr, corrs_gt0, \n",
    "    pcorrs_gt0, coord_let, coord_let_shift, show_plots=1, show_reg = 1, \n",
    "    hue='ps2_', show_ttest_alt_type = False,\n",
    "    #fontsize_r = None , fontsize_panel_let = None,  fsz_lab = None, fontsize_title= 10,\n",
    "    fontsize_r = 15 , fontsize_panel_let = 24,  fsz_lab = 18, fontsize_title= 22)"
   ]
  },
  {
   "cell_type": "code",
   "execution_count": null,
   "id": "2e79ef45-d253-4b2e-80f2-25606472a6c5",
   "metadata": {},
   "outputs": [],
   "source": [
    "%matplotlib inline\n",
    "# merge svg files\n",
    "from bmp_config import path_fig\n",
    "from figure.imgfilemanip import *\n",
    "svg_files = [ fnfb + '.svg' for fnfb in fnfbs ]\n",
    "restree = stack_svg(svg_files,'vertical')\n",
    "\n",
    "fnfout = pjoin(path_fig, 'behav', f'Fig3_stacked_dynESps2_2.svg')\n",
    "restree.write(fnfout)\n",
    "print(f\"SVG files have been combined and saved as {fnfout}\")\n",
    "\n",
    "from IPython.display import SVG, display, Image\n",
    "# Display the stacked SVG file\n",
    "print('svg pic:')\n",
    "display(SVG(filename=fnfout))\n",
    "\n",
    "svg2png(fnfout)"
   ]
  },
  {
   "cell_type": "markdown",
   "id": "77326687-e61c-4d1c-ac1d-4311852d0c47",
   "metadata": {},
   "source": [
    "# Stats"
   ]
  },
  {
   "cell_type": "code",
   "execution_count": null,
   "id": "21c23f04-5ebb-4e16-9381-f30842589ab6",
   "metadata": {},
   "outputs": [],
   "source": [
    "with pd.option_context('display.precision', 2):\n",
    "    print('ps_-sep corr')\n",
    "    display(corrs_sig[cols])\n",
    "    print('ps_-sep partial corr')\n",
    "    display(pcorrs_sig[cols])"
   ]
  },
  {
   "cell_type": "code",
   "execution_count": null,
   "id": "9bb397d9-9f18-4053-91b2-a36e005a20f1",
   "metadata": {},
   "outputs": [],
   "source": [
    "mccm = 'holm'\n",
    "\n",
    "cps = corrs_per_subj.reset_index()\n",
    "ttrssig,ttrs = comparePairs(cps,'r', 'ps2_', pooled=0, alt=['greater'], updiag=False, paired=True, multi_comp_corr_method = mccm)\n",
    "ttrs_corrs = ttrs\n",
    "\n",
    "ttrs_corrs['corr_type'] = 'direct_corr'\n",
    "assert cps.method.nunique() == 1\n",
    "print(cps.method.unique())\n",
    "cols = ['ttstr','T','pval','dof','starcode','mc_corr_method']\n",
    "with pd.option_context('display.precision', 2):\n",
    "    display(ttrssig[cols])\n",
    "\n",
    "print('partial corr:')\n",
    "pcps = pcorrs_per_subj.reset_index()\n",
    "ttrssig,ttrs = comparePairs(pcps,'r', 'ps2_', pooled=0, alt=['greater'], updiag=False, paired=True, multi_comp_corr_method = mccm)\n",
    "ttrs_pcorrs = ttrs\n",
    "ttrs_pcorrs['corr_type'] = 'partial_corr'\n",
    "assert cps.method.nunique() == 1\n",
    "print(cps.method.unique())\n",
    "cols = ['ttstr','T','pval','dof','starcode','mc_corr_method']\n",
    "with pd.option_context('display.precision', 2):\n",
    "    display(ttrssig[cols])"
   ]
  },
  {
   "cell_type": "code",
   "execution_count": null,
   "id": "9728cd4d-2473-49b2-bc81-ab8fdb93ab6f",
   "metadata": {},
   "outputs": [],
   "source": [
    "with pd.option_context('display.precision', 2):\n",
    "    ttrs_corrs_and_pcorrs = pd.concat([ttrs_corrs,ttrs_pcorrs])\n",
    "    display(ttrs_corrs_and_pcorrs.query('pval <= 0.05').sort_values(['ttstr','corr_type']) [['corr_type'] + cols] )"
   ]
  },
  {
   "cell_type": "code",
   "execution_count": null,
   "id": "79c3d715-f5b0-43ed-9f23-e40bea8dccc3",
   "metadata": {},
   "outputs": [],
   "source": [
    "with pd.option_context('display.precision', 2):\n",
    "    display(ttrs_corrs.query('ttstr == \"washout > pert\"')[cols])\n",
    "\n",
    "    display(ttrs_pcorrs.query('ttstr == \"washout > pert\"')[cols])"
   ]
  },
  {
   "cell_type": "markdown",
   "id": "72be3047",
   "metadata": {},
   "source": [
    "# some stats to print (from behav_manuscript_plots_ju.ipynb)"
   ]
  },
  {
   "cell_type": "code",
   "execution_count": null,
   "id": "11474ca4",
   "metadata": {},
   "outputs": [],
   "source": [
    "from datetime import datetime\n",
    "fnf = pjoin(path_data,'df_all_multi_tsz__.pkl.zip')\n",
    "print(fnf)\n",
    "print( str(datetime.fromtimestamp(os.stat(fnf).st_mtime)))\n",
    "df_all_multi_tsz = pd.read_pickle(fnf)\n",
    "df = df_all_multi_tsz.query('trial_shift_size == 1 and trial_group_col_calc == \"trialwe\" '\n",
    "                           ' and retention_factor_s == \"0.924\"').copy().sort_values(['subject','trials'])\n",
    "df,dfall,ES_thr,envv,pert = addBehavCols2(df);\n",
    "\n",
    "dfall_not0trial = dfall.query('trialwpertstage_wb > 0').copy()"
   ]
  }
 ],
 "metadata": {
  "kernelspec": {
   "display_name": ".venv",
   "language": "python",
   "name": "python3"
  },
  "language_info": {
   "codemirror_mode": {
    "name": "ipython",
    "version": 3
   },
   "file_extension": ".py",
   "mimetype": "text/x-python",
   "name": "python",
   "nbconvert_exporter": "python",
   "pygments_lexer": "ipython3",
   "version": "3.12.3"
  }
 },
 "nbformat": 4,
 "nbformat_minor": 5
}
