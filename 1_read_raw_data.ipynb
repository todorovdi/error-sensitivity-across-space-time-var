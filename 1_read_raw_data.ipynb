{
 "cells": [
  {
   "cell_type": "code",
   "execution_count": null,
   "id": "6371e94b",
   "metadata": {},
   "outputs": [],
   "source": [
    "%load_ext autoreload\n",
    "%autoreload 2\n",
    "\n",
    "import os\n",
    "ipy = get_ipython()\n",
    "from os.path import join as pjoin\n",
    "import bmp_config"
   ]
  },
  {
   "cell_type": "code",
   "execution_count": null,
   "id": "cad498ca",
   "metadata": {
    "scrolled": true
   },
   "outputs": [],
   "source": [
    "# recalc all \n",
    "script_name = pjoin('.','bmp_preprocess_behav_calc_ES.py')\n",
    "ipy.run_line_magic('run', f'-i {script_name} '\n",
    "   '--use_sub_angles 1 --do_read 1 --perturbation_random_recalc 1 --save_suffix _ '\n",
    "  ' --trial_shift_size_max 4 --do_per_tgt 1 --do_per_env 1'\n",
    "    ' --retention_factor 1,0.924 --do_save 1 ')"
   ]
  },
  {
   "cell_type": "code",
   "execution_count": null,
   "id": "ac1a15a0",
   "metadata": {},
   "outputs": [],
   "source": []
  }
 ],
 "metadata": {
  "kernelspec": {
   "display_name": ".venv",
   "language": "python",
   "name": "python3"
  },
  "language_info": {
   "codemirror_mode": {
    "name": "ipython",
    "version": 3
   },
   "file_extension": ".py",
   "mimetype": "text/x-python",
   "name": "python",
   "nbconvert_exporter": "python",
   "pygments_lexer": "ipython3",
   "version": "3.12.3"
  }
 },
 "nbformat": 4,
 "nbformat_minor": 5
}
