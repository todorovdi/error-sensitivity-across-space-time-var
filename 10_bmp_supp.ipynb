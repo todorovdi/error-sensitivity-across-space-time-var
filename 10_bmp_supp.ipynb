{
 "cells": [
  {
   "cell_type": "code",
   "execution_count": null,
   "id": "f9952a90",
   "metadata": {
    "tags": []
   },
   "outputs": [],
   "source": [
    "%load_ext autoreload\n",
    "%autoreload 2\n",
    "\n",
    "import os\n",
    "from os.path import join as pjoin\n",
    "import pandas as pd\n",
    "import seaborn as sns; print(sns.__version__)\n",
    "from datetime import datetime\n",
    "import pingouin as pg\n",
    "from bmp_config import path_data\n",
    "import os\n",
    "import pandas as pd\n",
    "import matplotlib.pyplot as plt\n",
    "import matplotlib as mpl\n",
    "import seaborn as sns\n",
    "from bmp_behav_proc import *\n",
    "\n",
    "import numpy as np\n",
    "\n",
    "ps_2nice = dict( zip(['pre','pert','washout','rnd'], \n",
    "        ['No perturbation','Perturbation','Washout','Random']) )\n",
    "\n",
    "\n",
    "target_angs = (np.array([157.5, 112.5, 67.5, 22.5]) + 90) * (np.pi / 180)\n",
    "target_angs / np.pi * 180\n"
   ]
  },
  {
   "cell_type": "code",
   "execution_count": null,
   "id": "8f2a17cc-c6cb-4310-9c44-0adebe94a7c8",
   "metadata": {
    "run_control": {
     "marked": false
    },
    "tags": []
   },
   "outputs": [],
   "source": [
    "fnf = pjoin(path_data,'df_all_multi_tsz__.pkl.zip')\n",
    "#fnf = '/home/demitau/ownCloud/Current/merr_data/df_all_multi_tsz.pkl.zip'\n",
    "print(fnf)\n",
    "print( str(datetime.fromtimestamp(os.stat(fnf).st_mtime)))\n",
    "df_all_multi_tsz = pd.read_pickle(fnf)\n",
    "#dfc_multi_tsz = pd.   read_pickle(pjoin(path_data,'df_all_multi_tsz_trunc_q=0.05.pkl.zip'))\n",
    "print(df_all_multi_tsz['trial_group_col_calc'].unique())\n",
    "print(df_all_multi_tsz['retention_factor_s'].unique())\n",
    "# df = df_all_multi_tsz.query('trial_shift_size == 1 and trial_group_col_calc == \"trialwe\" '\n",
    "#                             ' and retention_factor_s == \"1.000\"').copy()\n",
    "df_all_multi_tsz_orig = df_all_multi_tsz"
   ]
  },
  {
   "cell_type": "code",
   "execution_count": null,
   "id": "c0841864",
   "metadata": {
    "run_control": {
     "marked": false
    },
    "tags": []
   },
   "outputs": [],
   "source": [
    "df = df_all_multi_tsz.query('trial_shift_size == 1 and trial_group_col_calc == \"trialwe\" '\n",
    "                           ' and retention_factor_s == \"0.924\"').copy().sort_values(['subject','trials'])\n",
    "df_orig = df\n",
    "\n",
    "#%debug\n",
    "# define dfall here\n",
    "df,dfall,ES_thr,envv,pert = addBehavCols2(df);\n",
    "\n",
    "df_wthr = df.copy()"
   ]
  },
  {
   "cell_type": "code",
   "execution_count": null,
   "id": "3ee8ce0e-8cea-40d1-8692-8246441b329a",
   "metadata": {},
   "outputs": [],
   "source": [
    "assert df_orig.groupby('subject').size().min() == 768"
   ]
  },
  {
   "cell_type": "markdown",
   "id": "1ae7587c",
   "metadata": {
    "heading_collapsed": true,
    "hidden": true,
    "jp-MarkdownHeadingCollapsed": true
   },
   "source": [
    "### within target"
   ]
  },
  {
   "cell_type": "markdown",
   "id": "dbf529c2",
   "metadata": {},
   "source": [
    "#### Fig2"
   ]
  },
  {
   "cell_type": "code",
   "execution_count": null,
   "id": "5011b9d7",
   "metadata": {},
   "outputs": [],
   "source": [
    "from figure.plots import relplot_multi\n",
    "df2 = df_all_multi_tsz.\\\n",
    "    query('trial_shift_size == 1 and '\n",
    "          'trial_group_col_calc.isin([\"trialwtgt_we\",\"trialwe\"]) '\n",
    "            ' and retention_factor_s == \"1.000\"').copy()\n",
    "\n",
    "dfni = df2.loc[~np.isinf(df2['err_sens'])]\n",
    "dfni_g = dfni.query('err_sens.abs() <= @ES_thr')\n",
    "nremoved_pooled = len(dfni) - len(dfni_g)\n",
    "\n",
    "sz = dfni.groupby(['subject'],observed=True).size()\n",
    "sz_g = dfni_g.groupby(['subject'],observed=True).size()\n",
    "mpct = ((sz - sz_g) / sz).mean() * 100\n",
    "print(f'Mean percentage of removed trials = {mpct:.2f}%, '\n",
    "      f'pooled = {nremoved_pooled / len(dfni) * 100:.2f}%')\n",
    "\n",
    "dfall2 = truncateDf(dfni_g, 'err_sens', q=0.0, infnan_handling='discard', \n",
    "                   cols_uniqify = ['subject','env','trial_group_col_calc'])"
   ]
  },
  {
   "cell_type": "code",
   "execution_count": null,
   "id": "d7188602",
   "metadata": {},
   "outputs": [],
   "source": [
    "fg,df= relplot_multi(data=dfall2,\n",
    "              ys=[['error_pscadj'],\n",
    "                 ['err_sens']], x='trials',\n",
    "                height=4,aspect=2, kind='line',\n",
    "                     col = 'trial_group_col_calc',\n",
    "                    estimator='mean', errorbar='sd')\n",
    "fg.refline(y=0)\n",
    "#r[0].refline(x=526)"
   ]
  },
  {
   "cell_type": "code",
   "execution_count": null,
   "id": "b724b179",
   "metadata": {},
   "outputs": [],
   "source": [
    "df_witgt = df_all_multi_tsz.query('trial_shift_size == 1 and trial_group_col_calc == \"trialwtgt_we\" '\n",
    "                           ' and retention_factor_s == \"0.924\"').copy().sort_values(['subject','trials'])\n",
    "df_witgt,dfall_witgt,ES_thr_witgt,_,_ = addBehavCols2(df_witgt.copy());"
   ]
  },
  {
   "cell_type": "code",
   "execution_count": null,
   "id": "c8c20392",
   "metadata": {
    "hidden": true
   },
   "outputs": [],
   "source": [
    "from figure.plots import relplot_multi\n",
    "df2 = df_all_multi_tsz.\\\n",
    "    query('trial_shift_size == 1 and '\n",
    "          'trial_group_col_calc.isin([\"trialwtgt_we\",\"trialwe\"]) '\n",
    "            ' and retention_factor_s == \"1.000\"').copy()\n",
    "\n",
    "dfni = df2.loc[~np.isinf(df2['err_sens'])]\n",
    "dfni_g = dfni.query('err_sens.abs() <= @ES_thr')\n",
    "nremoved_pooled = len(dfni) - len(dfni_g)\n",
    "\n",
    "sz = dfni.groupby(['subject'],observed=True).size()\n",
    "sz_g = dfni_g.groupby(['subject'],observed=True).size()\n",
    "mpct = ((sz - sz_g) / sz).mean() * 100\n",
    "print(f'Mean percentage of removed trials = {mpct:.2f}%, '\n",
    "      f'pooled = {nremoved_pooled / len(dfni) * 100:.2f}%')\n",
    "\n",
    "dfall2 = truncateDf(dfni_g, 'err_sens', q=0.0, infnan_handling='discard', \n",
    "                   cols_uniqify = ['subject','env','trial_group_col_calc'])"
   ]
  },
  {
   "cell_type": "code",
   "execution_count": null,
   "id": "3d6caa37",
   "metadata": {
    "hidden": true
   },
   "outputs": [],
   "source": [
    "fg,df= relplot_multi(data=dfall2,\n",
    "              ys=[['error_pscadj'],\n",
    "                 ['err_sens']], x='trials',\n",
    "                height=4,aspect=2, kind='line',\n",
    "                     col = 'trial_group_col_calc',\n",
    "                    estimator='mean', errorbar='sd')\n",
    "fg.refline(y=0)\n",
    "#r[0].refline(x=526)\n",
    "plt.show()"
   ]
  },
  {
   "cell_type": "markdown",
   "id": "a1006a20",
   "metadata": {},
   "source": [
    "# ES vs prev err (supp plot)"
   ]
  },
  {
   "cell_type": "code",
   "execution_count": null,
   "id": "f3ab548d",
   "metadata": {},
   "outputs": [],
   "source": [
    "#dfc = df_wthr.copy()\n",
    "dfc = dfall.copy()\n",
    "assert dfc.err_sens.max() < 40\n",
    "\n",
    "# #bins = np.linspace(-1.5,1.5,10)\n",
    "# bins = np.linspace(-1.5,1.5,10)\n",
    "# dfc['prev_error_bin'] = pd.cut(dfc['prev_error'], bins)\n",
    "# grp = dfc.groupby( ['subj','prev_error_bin','env'] )\n",
    "# dfme = grp['err_sens'].mean().reset_index()\n",
    "# dfme['prev_error_mid'] = dfme['prev_error_bin'].apply(lambda x: x.mid )\n",
    "# dfme"
   ]
  },
  {
   "cell_type": "code",
   "execution_count": null,
   "id": "aa681380",
   "metadata": {},
   "outputs": [],
   "source": [
    "from figure.plots import genStRandLegendHandles\n",
    "import warnings\n",
    "handles = genStRandLegendHandles(rect=False, include_labels=True)\n",
    "\n",
    "r2d = 180 / np.pi\n",
    "savefig = 1\n",
    "bins = np.linspace(-1.2,1.2,15) * r2d; \n",
    "#bins = np.linspace(-1.5,1.5,15)  * r2d\n",
    "#bins = np.linspace(-1.5,1.5,10) * r2d\n",
    "dfc['prev_error_deg_bin'] = pd.cut(dfc['prev_error'] * r2d, bins) # important to use true error, not pscadj\n",
    "grp = dfc.groupby( ['subj','prev_error_deg_bin','env','dist_rad_from_prevtgt2'] )\n",
    "dfme = grp['err_sens'].mean().to_frame()\n",
    "dfstd = grp['err_sens'].std().to_frame()\n",
    "dfmesz = grp['err_sens'].size().to_frame()\n",
    "dfme['sz'] = dfmesz['err_sens']\n",
    "dfme['err_sens_std'] = dfstd['err_sens']\n",
    "dfme = dfme.reset_index()\n",
    "dfme['prev_error_deg_mid'] = dfme['prev_error_deg_bin'].apply(lambda x: x.mid )\n",
    "\n",
    "nbins = len(bins)\n",
    "minsz = 2  # minimum number of points we want within a bin\n",
    "ylim = -0.65,1.1\n",
    "df_ = dfme.query('sz >= @minsz')\n",
    "\n",
    "def custom_axis_label(ax, data):\n",
    "    env = data.env.values[0]\n",
    "    d = data.dist_rad_from_prevtgt2.values[0]\n",
    "    ax.set_label_text(f'Dist = {d}')\n",
    "    \n",
    "def set_custom_titles(grid, data):\n",
    "    for ax, (col_val, data_cur_axis) in zip(grid.axes.flat, grid.facet_data()):\n",
    "        d = data_cur_axis.dist_rad_from_prevtgt2.values[0]\n",
    "        d = float(d) * r2d\n",
    "        ax.set_title(f'Distance from\\nprevious target = {d:.0f} [deg]')                \n",
    "\n",
    "#row='env',\n",
    "with warnings.catch_warnings():\n",
    "    warnings.filterwarnings('ignore',category=FutureWarning)\n",
    "    fg = sns.relplot(kind='line', data=df_, x='prev_error_deg_mid', y='err_sens', \n",
    "                      col='dist_rad_from_prevtgt2', hue='env',\n",
    "                    height=5, hue_order=['stable','random'], palette=['tab:orange','tab:grey'],\n",
    "                     col_order=['0.00', '0.79', '1.57', '2.36'],\n",
    "                    legend=False, aspect=0.9)\n",
    "    #fg = sns.scatterplot(data=dfc.query('env == \"stable\"'), x='prev_error', y='err_sens', hue='block_name')\n",
    "    #fg.axhline(0,c='r',ls=':')\n",
    "    for ax in fg.axes.flatten():\n",
    "        ax.axhline(0,c='r',ls=':')\n",
    "        ax.axvline(0,c='r',ls=':')\n",
    "        ax.set_ylabel('error sensitivity')\n",
    "        ax.set_xlabel('previous error [deg]')\n",
    "        ax.set_ylim(ylim)\n",
    "        \n",
    "    set_custom_titles(fg, df_)\n",
    "    \n",
    "    ax.legend(handles=handles, facecolor='white',                                                                                                                                                                                                       \n",
    "    loc='lower right', framealpha=0.75, fontsize='medium')  \n",
    "\n",
    "        #ax.set_ylim(-15,15)\n",
    "    #addTitleInfo(ax)\n",
    "    \n",
    "    plt.suptitle('ES dependence on previous error')\n",
    "    plt.tight_layout()\n",
    "    \n",
    "    print('minsz = ',minsz)\n",
    "    if savefig:\n",
    "        plt.savefig(pjoin(path_fig, 'behav', f'ES_per_prev_error_binned_inctgt_minsz={minsz}_{nbins}.pdf'))\n",
    "    else:\n",
    "        print('Skipping fig saving')"
   ]
  },
  {
   "cell_type": "code",
   "execution_count": null,
   "id": "80546c06",
   "metadata": {},
   "outputs": [],
   "source": [
    "dft = df_.query('dist_rad_from_prevtgt2 == \"0.00\"')\n",
    "#[['subj','env','err_sens','prev_error_deg_mid']]"
   ]
  },
  {
   "cell_type": "code",
   "execution_count": null,
   "id": "feb8b7fb",
   "metadata": {},
   "outputs": [],
   "source": [
    "dfc.groupby( ['subj','prev_error_deg_bin','env','dist_rad_from_prevtgt2'] )"
   ]
  },
  {
   "cell_type": "code",
   "execution_count": null,
   "id": "7865f51c",
   "metadata": {},
   "outputs": [],
   "source": [
    "myttest?"
   ]
  },
  {
   "cell_type": "code",
   "execution_count": null,
   "id": "6359d53d",
   "metadata": {},
   "outputs": [],
   "source": [
    "dfc['prev_error_deg_mid'] = dfc['prev_error_deg_bin'].apply(lambda x: x.mid ).astype('category')"
   ]
  },
  {
   "cell_type": "code",
   "execution_count": null,
   "id": "94167e31",
   "metadata": {},
   "outputs": [],
   "source": [
    "def f(df):\n",
    "    #df1 = df.query('env == \"stable\"')\n",
    "    #df2 = df.query('env == \"random\"')\n",
    "    try:\n",
    "        r = myttest( df, 'env == \"stable\"', 'env == \"random\"', 'err_sens', alt='two-sided')\n",
    "        #print(len(r))\n",
    "    except Exception as e:\n",
    "        print(e)\n",
    "        r = None\n",
    "    return r\n",
    "\n",
    "dfcst = dft.query('dist_rad_from_prevtgt2 == \"0.00\"')\n",
    "grp_ = dfcst.groupby(['prev_error_deg_mid'])\n",
    "dftr = grp_.apply(f)#\n",
    "dftr\n",
    "#['err_sens']"
   ]
  },
  {
   "cell_type": "code",
   "execution_count": null,
   "id": "ecb5dc36",
   "metadata": {},
   "outputs": [],
   "source": [
    "def f(df):\n",
    "    #df1 = df.query('env == \"stable\"')\n",
    "    #df2 = df.query('env == \"random\"')\n",
    "    try:\n",
    "        r = myttest( df, 'env == \"stable\"', 'env == \"random\"', 'err_sens', alt='two-sided')\n",
    "        #print(len(r))\n",
    "    except Exception as e:\n",
    "        print(e)\n",
    "        r = None\n",
    "    return r\n",
    "\n",
    "dfcst = dfme.query('dist_rad_from_prevtgt2 == \"0.00\"')\n",
    "grp_ = dfcst.groupby(['subj','prev_error_deg_mid'])\n",
    "dftr = grp_.apply(f)#\n",
    "#['err_sens']"
   ]
  },
  {
   "cell_type": "code",
   "execution_count": null,
   "id": "e71c9b61",
   "metadata": {},
   "outputs": [],
   "source": [
    "grp_.size().max()"
   ]
  },
  {
   "cell_type": "code",
   "execution_count": null,
   "id": "c1ad6e5f",
   "metadata": {},
   "outputs": [],
   "source": [
    "dftr"
   ]
  },
  {
   "cell_type": "code",
   "execution_count": null,
   "id": "151f2c9f",
   "metadata": {},
   "outputs": [],
   "source": [
    "#mne.stats.permutation_cluster_test("
   ]
  },
  {
   "cell_type": "code",
   "execution_count": null,
   "id": "5546c785",
   "metadata": {},
   "outputs": [],
   "source": [
    "dfcst = dfcst.copy()"
   ]
  },
  {
   "cell_type": "code",
   "execution_count": null,
   "id": "346dee3e",
   "metadata": {},
   "outputs": [],
   "source": [
    "dfcst['subj'] = dfcst['subj'].astype('category')"
   ]
  },
  {
   "cell_type": "code",
   "execution_count": null,
   "id": "386eef24",
   "metadata": {},
   "outputs": [],
   "source": [
    "dfcst = dfcst.reset_index()"
   ]
  },
  {
   "cell_type": "code",
   "execution_count": null,
   "id": "723bb6bf",
   "metadata": {},
   "outputs": [],
   "source": [
    "#model = smf.mixedlm(\"err_sens ~ C(env) * C(prev_error_deg_mid)\", dfcst, groups=dfcst[\"subj\"])\n",
    "#result = model.fit()\n",
    "#result.summary()"
   ]
  },
  {
   "cell_type": "code",
   "execution_count": null,
   "id": "5ce18297",
   "metadata": {},
   "outputs": [],
   "source": [
    "dftr[~dftr['T'].isna()]"
   ]
  },
  {
   "cell_type": "code",
   "execution_count": null,
   "id": "2a394cb1",
   "metadata": {},
   "outputs": [],
   "source": [
    "# plot standard deviation\n",
    "ylim = -0.65,3\n",
    "with warnings.catch_warnings():\n",
    "    warnings.filterwarnings('ignore',category=FutureWarning)\n",
    "    fg = sns.relplot(kind='line', data=df_, x='prev_error_deg_mid', y='err_sens_std', \n",
    "                      col='dist_rad_from_prevtgt2', hue='env',\n",
    "                    height=5, hue_order=['stable','random'], palette=['tab:orange','tab:grey'],\n",
    "                     col_order=['0.00', '0.79', '1.57', '2.36'],\n",
    "                    legend=False, aspect=0.9)\n",
    "    #fg = sns.scatterplot(data=dfc.query('env == \"stable\"'), x='prev_error', y='err_sens', hue='block_name')\n",
    "    #fg.axhline(0,c='r',ls=':')\n",
    "    for ax in fg.axes.flatten():\n",
    "        ax.axhline(0,c='r',ls=':')\n",
    "        ax.axvline(0,c='r',ls=':')\n",
    "        ax.set_ylabel('error sensitivity standard deviation')\n",
    "        ax.set_xlabel('previous error [deg]')\n",
    "        ax.set_ylim(ylim)\n",
    "        \n",
    "    set_custom_titles(fg, df_)\n",
    "    \n",
    "    ax.legend(handles=handles, facecolor='white',                                                                                                                                                                                                       \n",
    "    loc='lower right', framealpha=0.75, fontsize='medium')  \n",
    "\n",
    "        #ax.set_ylim(-15,15)\n",
    "    #addTitleInfo(ax)\n",
    "    \n",
    "    plt.suptitle('ES std dependence on previous error')\n",
    "    plt.tight_layout()"
   ]
  },
  {
   "cell_type": "markdown",
   "id": "15912f12",
   "metadata": {},
   "source": [
    "# Additional stats (supp)"
   ]
  },
  {
   "cell_type": "code",
   "execution_count": null,
   "id": "2e114e09",
   "metadata": {},
   "outputs": [],
   "source": [
    "mt = 0.754\n",
    "st = 0.190\n",
    "s = f'Mean movement time = {mt:.2f}s (std = {st:.2f}s)'\n",
    "print(s)"
   ]
  },
  {
   "cell_type": "code",
   "execution_count": null,
   "id": "56e8e905",
   "metadata": {},
   "outputs": [],
   "source": [
    "dfall.groupby('subject')['trial_duration'].mean().describe()"
   ]
  },
  {
   "cell_type": "code",
   "execution_count": null,
   "id": "e9f57117",
   "metadata": {},
   "outputs": [],
   "source": [
    "dfall.groupby('subject')['movement_duration'].mean().describe()"
   ]
  },
  {
   "cell_type": "code",
   "execution_count": null,
   "id": "8905282a",
   "metadata": {},
   "outputs": [],
   "source": [
    "from behav_proc import comparePairs    \n",
    "df_ = dfall.query('thr == \"mestd*0\" and env == \"random\"')\n",
    "varn = 'err_sens'\n",
    "col = 'block_name'\n",
    "\n",
    "print('Compare different random blocks')\n",
    "df_ = dfall.query('env == \"random\"')\n",
    "varn = 'err_sens'\n",
    "col = 'block_name'\n",
    "\n",
    "ttrssig, ttrs = comparePairs(df_,varn,col)\n",
    "if ttrssig is None:\n",
    "    print('None')\n",
    "else:\n",
    "    ttrssig[statcols_toshow]\n",
    "ttrs"
   ]
  },
  {
   "cell_type": "code",
   "execution_count": null,
   "id": "56c5dc79",
   "metadata": {},
   "outputs": [],
   "source": [
    "#'val1','val2',\n",
    "statcols_toshow = ['varn','T','pval','val1_nice','val2_nice','alternative','pooled','ttstr', 'ttstr_nice','dof']"
   ]
  },
  {
   "cell_type": "code",
   "execution_count": null,
   "id": "df2e7219",
   "metadata": {},
   "outputs": [],
   "source": [
    "stages = ['pre1','pert1_1','washout1_1','pert1_2','washout1_2'] + ['pre2','pert2_1','washout2_1','pert2_2','washout2_2']\n",
    "ind2stage = dict(zip(np.arange(len(stages)),stages))\n",
    "ind2stage[-1] = 'random'\n",
    "ind2stage\n",
    "\n",
    "def nicener(s):\n",
    "    # we have to start from -1 otherwise bad\n",
    "    inds = [-1] + list(range(10))\n",
    "    for i in inds:\n",
    "        ps = ind2stage[i]\n",
    "        \n",
    "        si = str(i)\n",
    "        sil = len(si)\n",
    "        if s.startswith(si + ' '):# or s.startswith(si + '>'):\n",
    "            s = ps + s[sil:]\n",
    "        elif s.endswith(' ' + si):# or s.endswith('>' + si):\n",
    "            s = s[:-sil] + ps\n",
    "        \n",
    "    return s\n",
    "ttrssig['ttstr_nice'] = ttrssig['ttstr'].apply(nicener)\n",
    "ttrssig['ttstr_nice']"
   ]
  },
  {
   "cell_type": "code",
   "execution_count": null,
   "id": "9fa8894e",
   "metadata": {},
   "outputs": [],
   "source": [
    "me = dfall.groupby(['thr','subject','pert_stage']).\\\n",
    "    mean(numeric_only=1).reset_index()\n",
    "me_pert_stage = me\n",
    "\n",
    "for col, me in [('pert_stage',me_pert_stage)]:#[('env', me_env), ('ps_', me_ps)]:\n",
    "    for qs in ['thr == \"mestd*0\"']:\n",
    "        df_ = dfall #me.query(qs)\n",
    "        print(col, qs)\n",
    "        varn = 'err_sens'\n",
    "        ttrssig, ttrs = comparePairs(df_,varn,col)\n",
    "        ttrssig['val1_nice'] = ttrssig['val1'].apply(lambda x: ind2stage[x])\n",
    "        ttrssig['val2_nice'] = ttrssig['val2'].apply(lambda x: ind2stage[x])\n",
    "        ttrssig['ttstr_nice'] = ttrssig['ttstr'].apply(nicener)\n",
    "        \n",
    "        display(ttrssig.query('alternative != \"two-sided\"')\\\n",
    "                [statcols_toshow])"
   ]
  },
  {
   "cell_type": "code",
   "execution_count": null,
   "id": "10cb0872",
   "metadata": {},
   "outputs": [],
   "source": [
    "display( ttrssig.query('alternative != \"two-sided\" and not ttstr.str.contains(\"-1\")')[['ttstr_nice','pval']] )"
   ]
  },
  {
   "cell_type": "code",
   "execution_count": null,
   "id": "70f26b7a",
   "metadata": {},
   "outputs": [],
   "source": [
    "display( ttrssig.query('alternative != \"two-sided\" and not ttstr.str.contains(\"-1\") and val1_nice.str.contains(\"pert\") and val2_nice.str.contains(\"pert\")')[['ttstr_nice','pval']] )\n",
    "display( ttrssig.query('alternative != \"two-sided\" and not ttstr.str.contains(\"-1\") and val1_nice.str.contains(\"wash\") and val2_nice.str.contains(\"wash\")')[['ttstr_nice','pval']] )\n",
    "display( ttrssig.query('alternative != \"two-sided\" and not ttstr.str.contains(\"-1\") and val1_nice.str.contains(\"pre\") and val2_nice.str.contains(\"pre\")')[['ttstr_nice','pval']] )\n",
    "print(\"Last pertrubation has lower ES compared to first and third perturbations (p-values 0.035 and 0.016.\")\n",
    "print(\"First washout has lower ES compared to the second one (p-value 0.014).\")"
   ]
  },
  {
   "cell_type": "code",
   "execution_count": null,
   "id": "de426d24",
   "metadata": {},
   "outputs": [],
   "source": []
  },
  {
   "cell_type": "markdown",
   "id": "32367701",
   "metadata": {},
   "source": [
    "# within tgt main stats"
   ]
  },
  {
   "cell_type": "markdown",
   "id": "8592f6cf",
   "metadata": {},
   "source": [
    "## no savings "
   ]
  },
  {
   "cell_type": "code",
   "execution_count": null,
   "id": "b5e12a27",
   "metadata": {},
   "outputs": [],
   "source": [
    "corrs_per_subj_me_,corrs_per_subj  = corrMean(dfall_witgt, \n",
    "                stagecol = 'pert_stage', coln='err_sens')\n",
    "\n",
    "# show stat signif\n",
    "stage_pairs = [(1,6),(3,8)]\n",
    "ttrs = []\n",
    "for s1,s2 in stage_pairs:    \n",
    "    cps1 = corrs_per_subj.reset_index().query('pert_stage == @s1').set_index(['subject'])\n",
    "    cps2 = corrs_per_subj.reset_index().query('pert_stage == @s2').set_index(['subject'])\n",
    "    cps_dif = cps1['r'] - cps2['r'] \n",
    "    cps_dif= cps_dif.to_frame()        \n",
    "    ttr = compare0(cps_dif, 'r', alt='two-sided')\n",
    "    ttr['stage_pair'] = f'{s1}-{s2}'\n",
    "    ttrs += [ttr]\n",
    "ttrs = pd.concat(ttrs)\n",
    "display( ttrs.query('pval <= 1e-2') )\n",
    "\n",
    "stage_pairs_nice = {\"1-6\":'first and last', \"3-8\":'second and third'}\n",
    "\n",
    "display(ttrs)\n",
    "print('\\n\\nNo savings:')\n",
    "for irow,row in ttrs.iterrows():\n",
    "    sp = row['stage_pair']\n",
    "    pv=row['pval']\n",
    "\n",
    "    #print(sp,pv)\n",
    "    print('ES during {} perturbations are not significantly different, p-value = {:.2e}.'.\\\n",
    "              format(stage_pairs_nice[sp],pv) )"
   ]
  },
  {
   "cell_type": "code",
   "execution_count": null,
   "id": "e8d09e96",
   "metadata": {},
   "outputs": [],
   "source": []
  },
  {
   "cell_type": "markdown",
   "id": "821e2249",
   "metadata": {},
   "source": [
    "## Fig 2 CD"
   ]
  },
  {
   "cell_type": "code",
   "execution_count": null,
   "id": "cd1ba4bb",
   "metadata": {},
   "outputs": [],
   "source": [
    "## plots"
   ]
  },
  {
   "cell_type": "code",
   "execution_count": null,
   "id": "d05ef47a",
   "metadata": {},
   "outputs": [],
   "source": [
    "#me.subject.nunique()"
   ]
  },
  {
   "cell_type": "code",
   "execution_count": null,
   "id": "e1e8e2b4",
   "metadata": {},
   "outputs": [],
   "source": [
    "from figure import renameTickLabels, palette_stabrand\n",
    "\n",
    "thr = \"mestd*0\"\n",
    "me = dfall_witgt.groupby(['thr','subject','env'], observed=True).\\\n",
    "    mean(numeric_only=1).reset_index()\n",
    "me_env = me\n",
    "#me.groupby(['env','thr']).size()\n",
    "sns.set(font_scale=1.3)\n",
    "fg = sns.catplot(data = me.query('thr == @thr'), \n",
    "                 kind='violin', y='err_sens', \n",
    "    x='env', col='thr', order=['stable','random'],\n",
    "                palette = palette_stabrand)\n",
    "#addTitleInfo(fg.axes.flatten()[0])\n",
    "for ax in fg.axes.flatten():\n",
    "    ax.axhline(y=0, c='r', ls=':'); #ax.set_ylim(-5,5)\n",
    "    \n",
    "from figure.mystatann import plotSigAll\n",
    "ylast, ttrssig_env = plotSigAll(ax, 0.83, 0.05, ticklen=0.02,\n",
    "       df=me, coln='err_sens', colpair = 'env')\n",
    "    \n",
    "ax.annotate('C', xy=(0, 1), xytext=(-60, 60), \n",
    "      fontsize=19, fontweight='bold', va='top', ha='left',\n",
    "      xycoords='axes fraction', textcoords='offset points')\n",
    "fg.set_ylabels('Error sensitivity')\n",
    "ax.set_xlabel('Environment')\n",
    "\n",
    "fign = 'Fig2C'\n",
    "plt.savefig(pjoin(path_fig, 'behav',fign + '.svg'))\n",
    "plt.savefig(pjoin(path_fig, 'behav',fign + '.pdf'))\n",
    "plt.show()\n",
    "    \n",
    "###################\n",
    "# non-pooled stages and env comparison\n",
    "me = dfall_witgt.groupby(['thr','subject','ps2_'], observed=True).\\\n",
    "    mean(numeric_only=1).reset_index()\n",
    "me_ps = me\n",
    "#me.groupby(['ps_','thr']).size()\n",
    "sns.set(font_scale=1.3)\n",
    "fg = sns.catplot(data = me.query('thr == @thr'), kind='violin', y='err_sens', \n",
    "    x='ps2_', col='thr', order=['pre','pert','washout','rnd'],\n",
    "                hue = 'ps2_')\n",
    "for ax in fg.axes.flatten():\n",
    "    ax.axhline(y=0, c='r', ls=':'); #ax.set_ylim(-5,5)\n",
    "#addTitleInfo(fg.axes.flatten()[0])\n",
    "#plt.gcf().add_subplot_labels(['C'])\n",
    "\n",
    "ylast, ttrssig_ps = plotSigAll(ax, 2.05, 0.14, ticklen=0.05,\n",
    "       df=me, coln='err_sens', colpair = 'ps2_', fontsize = 10)\n",
    "\n",
    "ax.annotate('D', xy=(0, 1), xytext=(-60, 60), \n",
    "      fontsize=19, fontweight='bold', va='top', ha='left',\n",
    "      xycoords='axes fraction', textcoords='offset points')\n",
    "\n",
    "ax.set_xlabel('Experiment stage')\n",
    "#ax.set_xticklabels(['No perturbation','Perturbation','Washout','Random'], \n",
    "#                   rotation=30)\n",
    "ps_2nice = dict( zip(['pre','pert','washout','rnd'], \n",
    "        ['No perturbation','Perturbation','Washout','Random']) )\n",
    "renameTickLabels(ax, ps_2nice, rotation=30)\n",
    "\n",
    "fg.set_ylabels('Error sensitivity')\n",
    "fign = 'Fig2D'\n",
    "plt.savefig(pjoin(path_fig, 'behav',fign + '.svg'))\n",
    "plt.savefig(pjoin(path_fig, 'behav',fign + '.pdf'))\n",
    "\n",
    "#fg.set_titles()"
   ]
  },
  {
   "cell_type": "code",
   "execution_count": null,
   "id": "d0644061",
   "metadata": {},
   "outputs": [],
   "source": [
    "## stats"
   ]
  },
  {
   "cell_type": "code",
   "execution_count": null,
   "id": "d37cb955",
   "metadata": {},
   "outputs": [],
   "source": [
    "# to put in results\n",
    "ttrs = []\n",
    "for env in me_env.env.unique():\n",
    "    r = compare0(me_env.query('env == @env'),'err_sens',cols_addstat=['err_sens'])\n",
    "    r['env'] = env\n",
    "    ttrs += [r]\n",
    "ttrs_pos = pd.concat(ttrs).query('pval <= 0.05').set_index('env')\n",
    "assert len(ttrs_pos) == 2\n",
    "display(ttrs_pos)\n",
    "\n",
    "s0 = 'Averages of ES within participant. \\n'\n",
    "for env in me_env.env.unique():\n",
    "    row = ttrs_pos.loc[env]\n",
    "    s = (f\"{env} ES mean = {row['err_sens_mean']:.2f} (std = {row['err_sens_std']:.2f}),\"\n",
    "        f\" ES > 0 p-value = {row['pval']:.2e}. \\n\" )\n",
    "    s = s[0].upper() + s[1:]\n",
    "    s0 += s\n",
    "\n",
    "display(ttrssig_env)\n",
    "row = ttrssig_env.iloc[0]\n",
    "\n",
    "s = f\"Stable > random p-value={row['pval']:.2e}\"\n",
    "print(s0)\n",
    "print(s)"
   ]
  },
  {
   "cell_type": "code",
   "execution_count": null,
   "id": "6cbe9fec",
   "metadata": {},
   "outputs": [],
   "source": [
    "# to put in results\n",
    "#cocoln = 'ps2_'\n",
    "ttrs = []\n",
    "for ps in me_ps.ps2_.unique():\n",
    "    r = compare0(me_ps.query('ps2_ == @ps'),'err_sens',cols_addstat=['err_sens'])\n",
    "    r['ps2_'] = ps\n",
    "    ttrs += [r]\n",
    "ttrs_pos = pd.concat(ttrs).query('pval <= 0.05')\n",
    "assert len(ttrs_pos) == 4\n",
    "display(ttrs_pos)\n",
    "ttrs_pos = ttrs_pos.set_index('ps2_')\n",
    "\n",
    "s0 = 'Averages of ES within participant: \\n'\n",
    "for ps in me_ps.ps2_.unique():\n",
    "    row = ttrs_pos.loc[ps]\n",
    "    s = (f\"{ps} ES mean = {row['err_sens_mean']:.2f} (std = {row['err_sens_std']:.2f}),\"\n",
    "        f\" ES > 0 p-value = {row['pval']:.2e}. \\n\" )\n",
    "    s = s[0].upper() + s[1:]\n",
    "    s0 += s\n",
    "\n",
    "#display(ttrssig_ps)\n",
    "#row = ttrssig_ps.iloc[0]\n",
    "\n",
    "ttrssig_ps,_ = comparePairs(me_ps, 'err_sens', 'ps2_', alt=['greater'], \n",
    "                            paired=True, updiag=False)\n",
    "display(ttrssig_ps[ttrssig_ps.columns[-5:]])\n",
    "s1 = ''\n",
    "for i,row in ttrssig_ps.iterrows():\n",
    "    ttstr = row['ttstr']\n",
    "    s = ttstr.replace(row['val2'], ps_2nice[row['val2']] ).replace(row['val1'],\n",
    "                                                                   ps_2nice[row['val1']] )    \n",
    "    s += f\" p-value={row['pval']:.2e}; \\n\"\n",
    "    s1 += s\n",
    "#s = f\"Stable > random p-value={row['pval']:.2e}\"\n",
    "print(s0)\n",
    "print(s1)"
   ]
  },
  {
   "cell_type": "code",
   "execution_count": null,
   "id": "0ba40e21",
   "metadata": {},
   "outputs": [],
   "source": [
    "# show that dif between pert and rand is not there\n",
    "psvals = [\"pert\",\"rnd\"]\n",
    "ttrssig,ttrssig_all = comparePairs(me_ps.query('ps2_.isin(@psvals)'),\n",
    "                         'err_sens', 'ps2_', alt=['two-sided'], \n",
    "                        paired=True, updiag=True, pooled=0)\n",
    "display(ttrssig_all)\n",
    "assert len(ttrssig_all) == 1\n",
    "row = ttrssig_all.iloc[0]\n",
    "if row['pval'] > 0.05:    \n",
    "    s = 'The difference between ES in '\n",
    "    s += '{} and {} conditions is not significant ('.format( \n",
    "        ps_2nice[row['val2']], ps_2nice[row['val1'] ] )\n",
    "    s += f\" p-value={row['pval']:.2e}).\"\n",
    "    #s1 += s\n",
    "    print(s)\n",
    "else:\n",
    "    print('Actually there is significance')"
   ]
  },
  {
   "cell_type": "markdown",
   "id": "bd29e418",
   "metadata": {},
   "source": [
    "# New stats for err"
   ]
  },
  {
   "cell_type": "code",
   "execution_count": null,
   "id": "258dc0c5",
   "metadata": {},
   "outputs": [],
   "source": [
    "warnings.filterwarnings(\"ignore\",category=UserWarning) "
   ]
  },
  {
   "cell_type": "code",
   "execution_count": null,
   "id": "e27c26e4",
   "metadata": {},
   "outputs": [],
   "source": [
    "ttrssig,ttrs = comparePairs(dfall,'error_pscadj','block_name')"
   ]
  },
  {
   "cell_type": "code",
   "execution_count": null,
   "id": "236b89cb",
   "metadata": {},
   "outputs": [],
   "source": [
    "ttrssig.query('alternative != \"two-sided\"')[['pval','ttstr','pooled']]"
   ]
  },
  {
   "cell_type": "code",
   "execution_count": null,
   "id": "a767e9c0",
   "metadata": {},
   "outputs": [],
   "source": [
    "me = dfall.groupby(['subject','env','block_name'])['error_pscadj'].mean().to_frame().reset_index()"
   ]
  },
  {
   "cell_type": "code",
   "execution_count": null,
   "id": "8ae64cf8",
   "metadata": {},
   "outputs": [],
   "source": [
    "me"
   ]
  },
  {
   "cell_type": "code",
   "execution_count": null,
   "id": "128efb64",
   "metadata": {},
   "outputs": [],
   "source": [
    "from behav_proc import compare0\n",
    "for bn in dfall.block_name.unique():\n",
    "    df_ = dfall.query('block_name == @bn')\n",
    "    ttrs = compare0(df_,'error_pscadj').query('pval <= 0.05')\n",
    "    print(bn)\n",
    "    display(ttrs)"
   ]
  },
  {
   "cell_type": "code",
   "execution_count": null,
   "id": "22662871",
   "metadata": {},
   "outputs": [],
   "source": [
    "fg = sns.catplot(data = dfall,kind='violin',y='error_pscadj',\n",
    "           x='block_name', hue='env')\n",
    "fg.refline(y=0)\n",
    "\n",
    "fg = sns.catplot(data = me,kind='violin',y='error_pscadj',\n",
    "           x='block_name', hue='env')\n",
    "fg.refline(y=0)"
   ]
  }
 ],
 "metadata": {
  "celltoolbar": "Tags",
  "kernelspec": {
   "display_name": ".venv_behan2",
   "language": "python",
   "name": "python3"
  },
  "language_info": {
   "codemirror_mode": {
    "name": "ipython",
    "version": 3
   },
   "file_extension": ".py",
   "mimetype": "text/x-python",
   "name": "python",
   "nbconvert_exporter": "python",
   "pygments_lexer": "ipython3",
   "version": "3.12.3"
  }
 },
 "nbformat": 4,
 "nbformat_minor": 5
}
