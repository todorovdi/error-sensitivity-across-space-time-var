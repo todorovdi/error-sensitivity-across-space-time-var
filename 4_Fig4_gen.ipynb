{
 "cells": [
  {
   "cell_type": "code",
   "execution_count": null,
   "id": "f65b2554-bbbd-449e-b7c5-fe05ec01c5bb",
   "metadata": {},
   "outputs": [],
   "source": [
    "%load_ext autoreload\n",
    "%autoreload 2\n",
    "    \n",
    "from bmp_config import path_data,envcode2env\n",
    "import os\n",
    "import pandas as pd\n",
    "import matplotlib.pyplot as plt\n",
    "import matplotlib as mpl\n",
    "import seaborn as sns\n",
    "from bmp_behav_proc import *\n",
    "\n",
    "import numpy as np\n",
    "from pingouin import ttest\n",
    "from bmp_base import radius_cursor\n",
    "import bmp_behav_proc"
   ]
  },
  {
   "cell_type": "code",
   "execution_count": null,
   "id": "2106e308-f873-45ed-b83c-1638836f5a03",
   "metadata": {},
   "outputs": [],
   "source": [
    "from datetime import datetime\n",
    "\n",
    "fnf = pjoin(path_data,'df_all_multi_tsz__.pkl.zip')\n",
    "print(fnf)\n",
    "print( str(datetime.fromtimestamp(os.stat(fnf).st_mtime)))\n",
    "df_all_multi_tsz = pd.read_pickle(fnf)\n",
    "print(df_all_multi_tsz['trial_group_col_calc'].unique())\n",
    "print(df_all_multi_tsz['retention_factor_s'].unique())\n",
    "# df = df_all_multi_tsz.query('trial_shift_size == 1 and trial_group_col_calc == \"trialwe\" '\n",
    "#                             ' and retention_factor_s == \"1.000\"').copy()\n",
    "df_all_multi_tsz_orig = df_all_multi_tsz"
   ]
  },
  {
   "cell_type": "code",
   "execution_count": null,
   "id": "5fda70e1",
   "metadata": {},
   "outputs": [],
   "source": [
    "df = df_all_multi_tsz.query('trial_shift_size == 1 and trial_group_col_calc == \"trialwe\" '\n",
    "                           ' and retention_factor_s == \"0.924\"').copy().sort_values(['subject','trials'])\n",
    "df_orig = df\n",
    "# define dfall here\n",
    "df,dfall,ES_thr,envv,pert = addBehavCols2(df);\n"
   ]
  },
  {
   "cell_type": "code",
   "execution_count": null,
   "id": "2c15ac07",
   "metadata": {},
   "outputs": [],
   "source": [
    "# prepare for generalization analysis\n",
    "import bmp_behav_proc\n",
    "stds = bmp_behav_proc._calcStds(df)\n",
    "stds = stds.to_frame().reset_index().rename(columns={'error_deg':'error_deg_initstd'}) \n",
    "\n",
    "print( df_all_multi_tsz.trial_group_col_calc.unique() )\n",
    "\n",
    "df_all_multi_tsz_whtr = df_all_multi_tsz.merge(stds, on='subject')\n",
    "df_all_multi_tsz_whtr_ = df_all_multi_tsz_whtr.\\\n",
    "    query('trial_group_col_calc in [\"trialwe\", \"trialwtgt_we\"]').copy()\n",
    "\n",
    "df_all_multi_tsz_whtr_['env'] = df_all_multi_tsz_whtr_['environment'].apply(lambda x: envcode2env[x])\n",
    "\n",
    "df_all_multi_tsz_whtr_['error_deg'] = df_all_multi_tsz_whtr_['error'] / np.pi * 180 \n",
    "df_all_multi_tsz_whtr_['error_initstd'] = df_all_multi_tsz_whtr_.error_deg_initstd /  180 * np.pi \n",
    "\n",
    "print('trial_group_col_calc uniue = ', df_all_multi_tsz['trial_group_col_calc'].unique() )\n",
    "\n",
    "\n",
    "checkErrBounds(df,['error','prev_error','error_deg'])\n",
    "checkErrBounds(df_all_multi_tsz_whtr_,['error','prev_error','error_deg'])\n",
    "\n",
    "shiftszs = df_all_multi_tsz_whtr_['trial_shift_size'].unique()\n",
    "print(shiftszs)\n",
    "\n",
    "_cols = [col for col in df_all_multi_tsz.columns if col.find('like') >= 0]\n",
    "print(_cols)\n",
    "\n",
    "# truncate multi-ver ES\n",
    "# remove trials with error > std_mult * std of error\n",
    "dfall_notclean = df_all_multi_tsz_whtr_.query('err_sens.abs() <= @ES_thr')\n",
    "\n",
    "dfall_mshsz = truncateDf(dfall_notclean, 'err_sens', q=0.0, infnan_handling='discard', \n",
    "       cols_uniqify = ['subject','environment','trial_shift_size',\n",
    "                       'trial_group_col_calc','retention_factor_s'])\n"
   ]
  },
  {
   "cell_type": "code",
   "execution_count": null,
   "id": "4e9a3fcc-adc3-4cfc-b3e1-381ffec0c8b1",
   "metadata": {},
   "outputs": [],
   "source": [
    "dfc_multi_tsz = dfall_mshsz.query('retention_factor_s == \"0.924\"')"
   ]
  },
  {
   "cell_type": "code",
   "execution_count": null,
   "id": "2c3f2b8c-d86f-4560-a174-a1ef84dd65e6",
   "metadata": {},
   "outputs": [],
   "source": [
    "print('min,max ES {:.3f}, {:.3f}'.format( dfc_multi_tsz.err_sens.min(), dfc_multi_tsz.err_sens.max() ) )\n",
    "assert dfc_multi_tsz['retention_factor_s'].nunique() == 1"
   ]
  },
  {
   "cell_type": "code",
   "execution_count": null,
   "id": "bb3e23a1-15ab-48ca-b450-103dcf129c07",
   "metadata": {},
   "outputs": [],
   "source": [
    "df_ = dfc_multi_tsz.query('trial_shift_size > 1 and trial_group_col_calc == \"trialwe\"')\n",
    "neq = (df_['dist_rad_from_prevtgt_shiftrespect'] != df_['dist_rad_from_prevtgt2']).sum()\n",
    "eq = (df_['dist_rad_from_prevtgt_shiftrespect'] == df_['dist_rad_from_prevtgt2']).sum()\n",
    "print( neq/len(df_), eq/len(df_))"
   ]
  },
  {
   "cell_type": "code",
   "execution_count": null,
   "id": "a492b52e-e678-4459-9a13-419a878c7b44",
   "metadata": {},
   "outputs": [],
   "source": [
    "#distcol = 'dist_rad_from_prevtgt2'\n",
    "distcol = 'dist_rad_from_prevtgt_shiftrespect'\n",
    "\n",
    "drs = dfc_multi_tsz[distcol].unique();\n",
    "drs_f = np.array( list(map( float, drs) ) )\n",
    "drs = list(sorted(drs,key = lambda x: float(x)))\n",
    "\n",
    "\n",
    "#dfc_s = dfc[dfc['trial_group_col_calc'] == 'trialwtgt_we']\n",
    "# TODO: should I restrict to one env?\n",
    "dfc_s = dfc_multi_tsz.query('trial_group_col_calc == \"trialwe\"')\n",
    "grp = dfc_s.groupby(['trial_shift_size', distcol])\n",
    "dts = dfc_multi_tsz['trial_shift_size'].unique()\n",
    "nt = len(dts)\n",
    "\n",
    "print(drs, dts)\n",
    "\n",
    "assert nt == 4, nt\n",
    "assert len(drs) == 4, len(drs)"
   ]
  },
  {
   "cell_type": "code",
   "execution_count": null,
   "id": "f8833e34-dab1-4c1c-b6cd-de516883573c",
   "metadata": {},
   "outputs": [],
   "source": [
    "drpairs = [(drs[i],drs[i+1] ) for i in range(3)]\n",
    "drpairs += [(drs[0],drs[i] ) for i in range(2,4)]\n",
    "drpairs += [(drs[1],drs[3] )]\n",
    "print(drpairs)\n",
    "\n",
    "dtpairs = [(dts[i],dts[i+1] ) for i in range(3)]\n",
    "dtpairs += [(dts[0],dts[i] ) for i in range(2,4)]\n",
    "dtpairs += [(dts[1],dts[3] )]\n",
    "dtpairs"
   ]
  },
  {
   "cell_type": "code",
   "execution_count": null,
   "id": "417812fb-5b66-4668-a6fa-5caddde3e2cd",
   "metadata": {},
   "outputs": [],
   "source": [
    "from figure.plots import plotPolys_genplot as plotPolys\n",
    "from figure.plots import getPvals_genplot as getPvals"
   ]
  },
  {
   "cell_type": "code",
   "execution_count": null,
   "id": "a8138361-9844-4546-a5f3-dd1023420cb6",
   "metadata": {
    "scrolled": true
   },
   "outputs": [],
   "source": [
    "from figure.mystatann import plotSigAll, plotSig0All\n",
    "from figure import env_order,palette_stabrand,env2color\n",
    "# not pooled\n",
    "#%debug\n",
    "text_shift = (-60, 20)\n",
    "annot_loc = (0, 1.03)\n",
    "\n",
    "hue = 'env'\n",
    "mcorr = 'holm'\n",
    "#env2color = {'stable':'lightblue', 'random':'orange'}\n",
    "aspect=1.3\n",
    "#rng = [2]\n",
    "#rng = [2,3,4,5,6,7]\n",
    "rng = [2]\n",
    "ylim = [-2,3]\n",
    "ylim_plot = [-0.7,2.5]\n",
    "meanfit=1\n",
    "#qs_spatial = f'trial_group_col_calc == \"trialwe\" and err_sens >= {ylim[0]} and err_sens <= {ylim[1]} and trial_shift_size == 1'\n",
    "qs_spatial = f'trial_group_col_calc == \"trialwe\" and trial_shift_size == 1'\n",
    "qs_temporal = f'trial_group_col_calc == \"trialwe\" and {distcol} == \"0.00\"'\n",
    "qs_temporal_naive = f'trial_group_col_calc == \"trialwe\"'  # use all trials\n",
    "#bnqs = [  ('grid_line_violin_spatial','Spatial distance [deg]',drs,drpairs,'dist_rad_from_prevtgt2', f'trial_group_col_calc == \"trialwe\" and err_sens >= {ylim[0]} and err_sens <= {ylim[1]} and trial_shift_size == 1'),\n",
    "#        ( 'grid_line_violin_temporal','Temporal distance [number of trials]',dts,dtpairs,'trial_shift_size','trial_group_col_calc == \"trialwe\" and dist_rad_from_prevtgt2 == \"0.00\"')]\n",
    "bnqs = {'grid_line_violin_spatial': ('Spatial distance [deg]',drs,drpairs,\n",
    "            distcol, qs_spatial),\n",
    "        'grid_line_violin_temporal':('Temporal distance [number of trials]',dts,dtpairs,\n",
    "            'trial_shift_size',qs_temporal),\n",
    "       'grid_line_violin_temporal_naive':('Temporal distance [number of trials]',dts,dtpairs,\n",
    "            'trial_shift_size',qs_temporal_naive)}\n",
    "panel_letters = ['A','B','B','C','D','D']\n",
    "paneli  = 0\n",
    "\n",
    "dfr = []\n",
    "ttrs0s = []\n",
    "for env_type in ['stable','random']:\n",
    "    color = env2color[env_type]\n",
    "#    for bn,xlab,order,pairs,fitcol,qs in bnqs:\n",
    "    for bn,(xlab,order,pairs,fitcol,qs) in bnqs.items():\n",
    "        #qs0 = f'trial_group_col_calc == \"trialwe\" and err_sens >= {ylim[0]} and err_sens <= {ylim[1]}'\n",
    "        #qs = qs + ' and trial_shift_size == 1'\n",
    "        if env_type in ['stable', 'random']:\n",
    "            qs += ' and env == @env_type'\n",
    "            hue = None\n",
    "            \n",
    "        dftmp0 = dfc_multi_tsz.query(qs).groupby(['subject','environment',fitcol])\n",
    "        dftmp0 = dftmp0.mean(numeric_only = True).reset_index()                \n",
    "        dfr += [dftmp0]\n",
    "\n",
    "        #dftmp0 = dfc_multi_tsz.query(qs)\n",
    "        #fitcol = 'dist_rad_from_prevtgt2'\n",
    "        fg = sns.catplot(kind='violin', data=dftmp0, y='err_sens', \n",
    "                         hue=hue, x=fitcol, order = order,\n",
    "                          color=color, aspect=aspect, cut=True)\n",
    "        #dftmp = dfc_multi_tsz.query(qs).copy()\n",
    "        dftmp = dftmp0.copy()\n",
    "        #pvalues, formatted_pvalues = getPvals(dftmp,fitcol, pairs)\n",
    "\n",
    "        ax = fg.axes.flatten()[0]\n",
    "        ttrs,ttrs_sig = plotSigAll(ax, 1.3, 0.2, 0.05, df=dftmp, \n",
    "                   coln = 'err_sens', colpair = fitcol,\n",
    "                  verbose = 0, multi_comp_corr_method=mcorr)\n",
    "        ttrs0,ttrs0_sig = plotSig0All(ax, 2.5, txt=None, df=dftmp, \n",
    "                   coln = 'err_sens', colpair = fitcol,\n",
    "                  multi_comp_corr_method=mcorr, graded_signif = True, show_ns = True)\n",
    "        ttrs0['bn'] = bn\n",
    "        ttrs0['env'] = env_type\n",
    "        ttrs0['fitcol'] = fitcol\n",
    "        ttrs0s += [ttrs0]\n",
    "\n",
    "        if bn.find('_spatial') >= 0:\n",
    "            pref = 'Spatial generalization in \\n'\n",
    "        else:\n",
    "            pref = 'Temporal generalization in \\n'\n",
    "        for ax in fg.axes.flatten():\n",
    "            ax.axhline(0,ls=':',c='r')\n",
    "            ax.set_ylabel('Error sensitivity', fontdict={'fontsize':12})\n",
    "            ax.set_xlabel(xlab, fontdict={'fontsize':12} )\n",
    "            if bn == 'grid_line_violin_spatial':\n",
    "                ax.set_xticklabels(['same target', 45, 90, 135])            \n",
    "            ax.set_title(pref + f'{env_type} environment', y = 1,\n",
    "                        fontdict={'fontsize':15, 'fontweight':'bold'})\n",
    "\n",
    "        ax.annotate(panel_letters[paneli], xy=annot_loc, xytext=text_shift, \n",
    "        fontsize=19, fontweight='bold', va='top', ha='left',\n",
    "            xycoords='axes fraction', textcoords='offset points')\n",
    "\n",
    "        ax.set_ylim(ylim_plot)\n",
    "\n",
    "        plotPolys(ax,dftmp,fitcol, degs=rng, mean=meanfit)\n",
    "        plt.tight_layout()\n",
    "        #bn = 'grid_line_violin_spatial'\n",
    "        plt.savefig(pjoin(path_fig,'behav',f'nopool_{env_type}_{bn}.svg'))\n",
    "        plt.savefig(pjoin(path_fig,'behav',f'nopool_{env_type}_{bn}.pdf'))\n",
    "        paneli += 1\n",
    "\n",
    "    #     break\n",
    "    # break\n",
    "ttrs0s = pd.concat(ttrs0s, ignore_index=True)"
   ]
  },
  {
   "cell_type": "code",
   "execution_count": null,
   "id": "0d25fffb-19a7-4a56-af78-8df3443bc73e",
   "metadata": {
    "scrolled": true
   },
   "outputs": [],
   "source": [
    "ttrs0s[['bn', 'env', 'T','pval','alt','ttstr','fitcol','varval','mc_corr_method',\n",
    "        'trial_shift_size','dist_rad_from_prevtgt_shiftrespect']]"
   ]
  },
  {
   "cell_type": "code",
   "execution_count": null,
   "id": "2fa458ff-6be9-404e-8e3c-6a0ab57af99e",
   "metadata": {},
   "outputs": [],
   "source": [
    "# make a 2x2 file\n",
    "from figure.imgfilemanip import  stackSVGandShowJupy, svg2png\n",
    "svg_fnames = []\n",
    "#use_all_trials_for_temporal = True # True gives naive, flase give first version \n",
    "use_all_trials_for_temporal = False  # what will go to main 4x4 pic\n",
    "bnsuff2fnsuff={'_naive':'_naive_temporal', '':'' }  # bn suffix to file name suffix\n",
    "\n",
    "if use_all_trials_for_temporal:\n",
    "    suff_bn = '_naive'; suff_bn_opposite = '' #; suff2= '_naive_temporal'  \n",
    "else:\n",
    "    suff_bn = ''; suff_bn_opposite = '_naive'  #; suff2= ''\n",
    "suff2 = bnsuff2fnsuff[suff_bn]\n",
    "for env_type in ['stable','random']:\n",
    "    for bn in ['grid_line_violin_spatial','grid_line_violin_temporal' + suff_bn]:\n",
    "        fnf = pjoin(path_fig,'behav',f'nopool_{env_type}_{bn}.svg')\n",
    "        svg_fnames += [fnf]\n",
    "\n",
    "show = 0\n",
    "fnfout1 = pjoin(path_fig,'behav',f'nopool_stable{suff2}.svg')\n",
    "stackSVGandShowJupy(svg_fnames[:2], 'horizontal', fnfout1, show=show) # stable horizontally\n",
    "fnfout2 = pjoin(path_fig,'behav',f'nopool_random{suff2}.svg')\n",
    "stackSVGandShowJupy(svg_fnames[2:], 'horizontal', fnfout2, show=show) # random horizontally\n",
    "\n",
    "fnfout = pjoin(path_fig,'behav',f'generalization_2x2_nopool{suff2}.svg')\n",
    "stackSVGandShowJupy([fnfout1,fnfout2], 'vertical', fnfout, show=show)\n",
    "\n",
    "svg2png(fnfout, dpi=300)"
   ]
  },
  {
   "cell_type": "code",
   "execution_count": null,
   "id": "211dc687-1e2a-46ac-a5d7-e67c8fccc8fc",
   "metadata": {},
   "outputs": [],
   "source": [
    "svg_fnames = []\n",
    "for env_type in ['stable','random']:\n",
    "    for bn in ['grid_line_violin_temporal' + suff_bn_opposite]:\n",
    "        fnf = pjoin(path_fig,'behav',f'nopool_{env_type}_{bn}.svg')\n",
    "        svg_fnames += [fnf]\n",
    "\n",
    "suff2 = bnsuff2fnsuff[suff_bn_opposite]\n",
    "\n",
    "show = 0\n",
    "fnfout1 = pjoin(path_fig,'behav',f'nopool_temporal{suff2}.svg')\n",
    "stackSVGandShowJupy(svg_fnames[:2], 'vertical', fnfout1, show=show)\n",
    "\n",
    "svg2png(fnfout1, dpi=300)"
   ]
  },
  {
   "cell_type": "markdown",
   "id": "36cff04e-6bb8-4366-bf5a-d98f4d144e83",
   "metadata": {},
   "source": [
    "# Stats"
   ]
  },
  {
   "cell_type": "code",
   "execution_count": null,
   "id": "26b9b73c-0198-42c5-b996-42976fa0083a",
   "metadata": {
    "scrolled": true
   },
   "outputs": [],
   "source": [
    "# compute mean pearson corr between temporal/spatial distance and err sens\n",
    "dfr = []\n",
    "method='spearman'\n",
    "for bn,(xlab,order,pairs,fitcol,qs) in bnqs.items():\n",
    "    dftmp0 = dfc_multi_tsz.query(qs).groupby(['subject','env',fitcol])\n",
    "    dftmp0 = dftmp0.mean(numeric_only = True).reset_index()\n",
    "    #dftmp0['thr'] = \"_\"\n",
    "    dftmp0[fitcol] = dftmp0[fitcol].astype(float)\n",
    "    corrme,corrme_sep = corrMean(dftmp0, coltocorr=fitcol, \n",
    "        stagecol='env' , coln='err_sens', method=method)\n",
    "    corrme_sep['antype'] = bn\n",
    "    dfr += [corrme_sep.reset_index()]\n",
    "dfr = pd.concat(dfr, ignore_index=True)"
   ]
  },
  {
   "cell_type": "code",
   "execution_count": null,
   "id": "bd74644e-e30a-42f6-a239-ebc293e75b60",
   "metadata": {},
   "outputs": [],
   "source": [
    "ttrss = []\n",
    "for antype in bnqs.keys():\n",
    "    for env in dfr.env.unique():\n",
    "        ttrs = compare0(dfr.query('antype == @antype and env == @env'), 'r', ['less'], 'r')\n",
    "        ttrs['antype'] = antype\n",
    "        ttrs['env'] = env\n",
    "        ttrss += [ttrs]\n",
    "ttrs = pd.concat(ttrss, ignore_index=True)\n",
    "print(len(ttrs.query('pval <= 0.05')))\n",
    "assert len(ttrs.query('pval <= 0.05')) == 4"
   ]
  },
  {
   "cell_type": "code",
   "execution_count": null,
   "id": "a354a211-6e63-4c33-b39e-f5783f518f06",
   "metadata": {},
   "outputs": [],
   "source": [
    "# slope sign\n",
    "temporal_antype_to_use = 'grid_line_violin_temporal_naive'\n",
    "s0 = ''\n",
    "for i,row in ttrs.iterrows():\n",
    "    antype = row['antype']\n",
    "    if (antype.find('temporal') >= 0) and (antype != temporal_antype_to_use):\n",
    "        continue\n",
    "    ant = antype.split('_')[-1]        \n",
    "    #row['alt']\n",
    "    ttsshrt = row['ttstr'][-3:]\n",
    "    s = 'for {} environment the the mean {} correlation of ES versus {} distance is {:.2f}+/-{:.2f} {}, p-value = {:.2e}'.format(\n",
    "        row['env'], method, ant, row['r_mean'], row['r_std'], ttsshrt, row['pval']\n",
    "    )\n",
    "    #print(s)\n",
    "    s0 += s[0].upper() + s[1:] + '. \\n'\n",
    "print(s0)"
   ]
  },
  {
   "cell_type": "code",
   "execution_count": null,
   "id": "46738bee-a571-484d-afd3-17dedf72ae7e",
   "metadata": {},
   "outputs": [],
   "source": [
    "ttrss = []\n",
    "for antype in bnqs.keys():    \n",
    "    ttrssig,ttrs = comparePairs(dfr.query('antype == @antype'), 'r', 'env', \n",
    "            alt = ['greater','less','two-sided'], \n",
    "                        paired=True, pooled=0 )\n",
    "    ttrs['antype'] = antype\n",
    "    #ttrs['env'] = env\n",
    "    ttrss += [ttrs]\n",
    "ttrs = pd.concat(ttrss, ignore_index=True)\n",
    "#assert len(ttrs.query('pval <= 0.05')) == 4"
   ]
  },
  {
   "cell_type": "code",
   "execution_count": null,
   "id": "f0e4edfa-6e22-49e0-86d7-f2010e8d0523",
   "metadata": {},
   "outputs": [],
   "source": [
    "display(ttrs)\n",
    "ttrssig = ttrs.query('pval <= 0.05 and alternative == \"less\"')\n",
    "print('sig only')\n",
    "display(ttrssig)"
   ]
  },
  {
   "cell_type": "code",
   "execution_count": null,
   "id": "fb5c2f5c-63fc-47f0-bafa-2154a0f2d376",
   "metadata": {},
   "outputs": [],
   "source": [
    "ttrs.query('alternative == \"two-sided\" and antype == \"grid_line_violin_temporal\"')"
   ]
  },
  {
   "cell_type": "code",
   "execution_count": null,
   "id": "e06bac58-2804-4153-a3e3-9eef6b62fb38",
   "metadata": {},
   "outputs": [],
   "source": [
    "#ttrs_sig\n",
    "if len(ttrssig):\n",
    "    print('!! SOME SIG !!!')\n",
    "    pv = ttrssig.iloc[0]['pval']\n",
    "else:\n",
    "    pv = ttrs.query('alternative == \"two-sided\" and antype == \"grid_line_violin_temporal\"').iloc[0]['pval']\n",
    "s_ = '{:.2e}'.format( pv )\n",
    "pvtemp = pv\n",
    "\n",
    "pv = ttrs.query('alternative == \"two-sided\" and antype == \"grid_line_violin_spatial\"').iloc[0]['pval']\n",
    "pvspat = pv\n",
    "s_2 = '{:.2e}'.format( pv )\n",
    "if len(ttrssig):\n",
    "    s = f'Temporal slope in random is stronger negative than in stable, p-value={s_}. '\n",
    "else:\n",
    "    s = f'Temporal slopes in random and stable are not different, p-value={s_}. '\n",
    "s += f'Spatial slopes in random and stable are not different, p-value={s_2}. '\n",
    "#print(s)\n",
    "\n",
    "\n",
    "print(s0,'\\n',s)"
   ]
  },
  {
   "cell_type": "code",
   "execution_count": null,
   "id": "6f8991da-d9a6-4945-9b8a-7c4d506ede2a",
   "metadata": {},
   "outputs": [],
   "source": [
    "print(f'{pvspat:.2e}, {pvtemp:.2e}')"
   ]
  }
 ],
 "metadata": {
  "kernelspec": {
   "display_name": ".venv",
   "language": "python",
   "name": "python3"
  },
  "language_info": {
   "codemirror_mode": {
    "name": "ipython",
    "version": 3
   },
   "file_extension": ".py",
   "mimetype": "text/x-python",
   "name": "python",
   "nbconvert_exporter": "python",
   "pygments_lexer": "ipython3",
   "version": "3.12.3"
  }
 },
 "nbformat": 4,
 "nbformat_minor": 5
}
