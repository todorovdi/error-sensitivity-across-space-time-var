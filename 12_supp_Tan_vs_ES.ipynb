{
 "cells": [
  {
   "cell_type": "code",
   "execution_count": null,
   "id": "22645451",
   "metadata": {},
   "outputs": [],
   "source": [
    "cd /p/home/jusers/todorov3/jusuf/bmp_code"
   ]
  },
  {
   "cell_type": "code",
   "execution_count": null,
   "id": "ab8abc9c",
   "metadata": {},
   "outputs": [],
   "source": [
    "%load_ext autoreload\n",
    "%autoreload 2\n",
    "\n",
    "import os\n",
    "from os.path import join as pjoin\n",
    "from datetime import datetime\n",
    "import pingouin as pg\n",
    "import pandas as pd\n",
    "import matplotlib.pyplot as plt\n",
    "import matplotlib as mpl\n",
    "import seaborn as sns\n",
    "import numpy as np\n",
    "from pingouin import ttest\n",
    "\n",
    "import pingouin as pg\n",
    "from joblib import Parallel, delayed\n",
    "from itertools import product\n",
    "import warnings\n",
    "\n",
    "from bmp_config import path_data, envcode2env\n",
    "from bmp_behav_proc import *\n",
    "load = 1\n",
    "if load:\n",
    "    fnf_fhl = pjoin(path_data,'dfcs_fixhistlen.pkl')\n",
    "    print(fnf_fhl)\n",
    "    print( str(datetime.fromtimestamp(os.stat(fnf_fhl).st_mtime)))\n",
    "    dfcs_fixhistlen = pd.read_pickle(fnf_fhl )\n",
    "else:\n",
    "    fnf = pjoin(path_data,'df_all_multi_tsz__.pkl.zip')\n",
    "    print(fnf)\n",
    "    print( str(datetime.fromtimestamp(os.stat(fnf).st_mtime)))\n",
    "    df_all_multi_tsz = pd.read_pickle(fnf)\n",
    "    df = df_all_multi_tsz.query('trial_shift_size == 1 and trial_group_col_calc == \"trialwe\" '\n",
    "                            ' and retention_factor_s == \"0.924\"').copy().sort_values(['subject','trials'])\n",
    "    df,dfall,ES_thr,envv,pert = addBehavCols2(df);\n",
    "    dfc = df.copy()\n",
    "    dfcs,dfcs_fixhistlen,dfcs_fixhistlen_untrunc,histlens  = addWindowStatCols(dfc, ES_thr, \n",
    "                                        varn0s = ['error','error_pscadj','error_pscadj_abs'])\n",
    "    dfcs_fixhistlen, me_pct_excl = truncLargeStats(dfcs_fixhistlen_untrunc, histlens, 5.)\n",
    "import pingouin as pg\n",
    "dfcs_fixhistlen['environment'] = dfcs_fixhistlen['environment'].astype(int)\n",
    "df_ = dfcs_fixhistlen[['environment','subject','trials','error_pscadj_abs_Tan29']]\n",
    "assert not df_.duplicated(['subject','trials']).any()\n",
    "all_suffixes = 'mav,std,invstd,mavsq,mav_d_std,mav_d_var,Tan,invmavsq,invmav,std_d_mav,invTan'.split(',')\n",
    "\n",
    "dfcs_fixhistlen0 = dfcs_fixhistlen.copy()\n",
    "print(len(dfcs_fixhistlen))\n",
    "c = ~  np.isinf(dfcs_fixhistlen['err_sens']) \n",
    "dfcs_fixhistlen = dfcs_fixhistlen.loc[c]\n",
    "print(len(dfcs_fixhistlen))\n",
    "c2 = dfcs_fixhistlen['err_sens'] > -41\n",
    "dfcs_fixhistlen = dfcs_fixhistlen.loc[c2]\n",
    "print(len(dfcs_fixhistlen))\n",
    "\n",
    "# make sure length n  is inside\n",
    "varn0 = 'error_pscadj'\n",
    "n = 3\n",
    "for suffix in all_suffixes:\n",
    "    s = f'{varn0}_{suffix}{n}'\n",
    "    if s not in dfcs_fixhistlen.columns:\n",
    "        print(s, 'not in dfcs_fixhistlen.columns')\n",
    "    assert s in dfcs_fixhistlen.columns\n",
    "\n",
    "print('all_suffixes = ', all_suffixes )"
   ]
  },
  {
   "cell_type": "markdown",
   "id": "3b970a13",
   "metadata": {},
   "source": [
    "## Plot of distributions (Fig S6)"
   ]
  },
  {
   "cell_type": "markdown",
   "id": "a4009ef6",
   "metadata": {},
   "source": [
    "## signed error"
   ]
  },
  {
   "cell_type": "code",
   "execution_count": null,
   "id": "7c786af4",
   "metadata": {},
   "outputs": [],
   "source": [
    "#pooled\n",
    "%matplotlib inline\n",
    "from figure.plots import plot_ES_vs_Tan\n",
    "plot_ES_vs_Tan(dfcs_fixhistlen, subjects_set='all', coln='error_pscadj_Tan20')\n",
    "plt.show()"
   ]
  },
  {
   "cell_type": "code",
   "execution_count": null,
   "id": "750b0037",
   "metadata": {},
   "outputs": [],
   "source": [
    "# single\n",
    "%matplotlib inline\n",
    "from figure.plots import plot_ES_vs_Tan\n",
    "\n",
    "coln2xlim = { 'error_pscadj_Tan20':  \n",
    "              {'stable': (-0.2, 10.5), 'random': (-0.05, 1)}} \n",
    "plot_ES_vs_Tan(dfcs_fixhistlen, subjects_set='one', hist_bins = (20,20), \n",
    "               coln='error_pscadj_Tan20', coln2xlim=coln2xlim,\n",
    "               legend_loc=  (0.95, 0.65))\n",
    "plt.show()"
   ]
  },
  {
   "cell_type": "markdown",
   "id": "9893d2b4",
   "metadata": {},
   "source": [
    "## Absolut error"
   ]
  },
  {
   "cell_type": "code",
   "execution_count": null,
   "id": "ff27b108",
   "metadata": {},
   "outputs": [],
   "source": [
    "#pooled\n",
    "%matplotlib inline\n",
    "from figure.plots import plot_ES_vs_Tan\n",
    "plot_ES_vs_Tan(dfcs_fixhistlen, subjects_set='all', coln='error_pscadj_abs_Tan20')\n",
    "plt.show()"
   ]
  },
  {
   "cell_type": "code",
   "execution_count": null,
   "id": "452d47a7",
   "metadata": {},
   "outputs": [],
   "source": [
    "# single\n",
    "%matplotlib inline\n",
    "from figure.plots import plot_ES_vs_Tan\n",
    "\n",
    "coln2xlim = { 'error_pscadj_abs_Tan20':  \n",
    "              {'stable': (-0.2, 10.5), 'random': (0.0, 5)}} \n",
    "plot_ES_vs_Tan(dfcs_fixhistlen, subjects_set='one', hist_bins = (20,20), \n",
    "               coln='error_pscadj_abs_Tan20', coln2xlim=coln2xlim,\n",
    "               legend_loc=  (0.97, 0.88))\n",
    "plt.show()"
   ]
  }
 ],
 "metadata": {
  "kernelspec": {
   "display_name": "error-sensitivity-across-space-time-var",
   "language": "python",
   "name": "python3"
  },
  "language_info": {
   "codemirror_mode": {
    "name": "ipython",
    "version": 3
   },
   "file_extension": ".py",
   "mimetype": "text/x-python",
   "name": "python",
   "nbconvert_exporter": "python",
   "pygments_lexer": "ipython3",
   "version": "3.12.3"
  }
 },
 "nbformat": 4,
 "nbformat_minor": 5
}
