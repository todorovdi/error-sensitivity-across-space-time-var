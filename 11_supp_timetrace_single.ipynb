{
 "cells": [
  {
   "cell_type": "code",
   "execution_count": null,
   "id": "f9952a90",
   "metadata": {
    "tags": []
   },
   "outputs": [],
   "source": [
    "%load_ext autoreload\n",
    "%autoreload 2\n",
    "\n",
    "import os\n",
    "from os.path import join as pjoin\n",
    "import pandas as pd\n",
    "import seaborn as sns\n",
    "import numpy as np\n",
    "from datetime import datetime\n",
    "import pingouin as pg\n",
    "import matplotlib.pyplot as plt\n",
    "import seaborn as sns\n",
    "\n",
    "from bmp_config import path_data, envcode2env\n",
    "from bmp_behav_proc import *\n",
    "\n",
    "fnf = pjoin(path_data,'df_all_multi_tsz__.pkl.zip')\n",
    "print(fnf)\n",
    "print( str(datetime.fromtimestamp(os.stat(fnf).st_mtime)))\n",
    "df_all_multi_tsz = pd.read_pickle(fnf)\n",
    "print(df_all_multi_tsz['trial_group_col_calc'].unique())\n",
    "print(df_all_multi_tsz['retention_factor_s'].unique())\n",
    "df_all_multi_tsz_orig = df_all_multi_tsz"
   ]
  },
  {
   "cell_type": "code",
   "execution_count": null,
   "id": "c0841864",
   "metadata": {
    "run_control": {
     "marked": false
    },
    "tags": []
   },
   "outputs": [],
   "source": [
    "df = df_all_multi_tsz.query('trial_shift_size == 1 and trial_group_col_calc == \"trialwe\" '\n",
    "                           ' and retention_factor_s == \"0.924\"').copy().sort_values(['subject','trials'])\n",
    "df_orig = df\n",
    "# define dfall here\n",
    "df,dfall,ES_thr,envv,pert = addBehavCols2(df);\n"
   ]
  },
  {
   "cell_type": "code",
   "execution_count": null,
   "id": "3ee8ce0e-8cea-40d1-8692-8246441b329a",
   "metadata": {},
   "outputs": [],
   "source": [
    "assert df_orig.groupby('subject').size().min() == 768"
   ]
  },
  {
   "cell_type": "code",
   "execution_count": null,
   "id": "0e590d4e",
   "metadata": {},
   "outputs": [],
   "source": [
    "print( df_all_multi_tsz['trial_group_col_calc'].unique() )\n",
    "checkErrBounds(df,['error','prev_error','error_deg'])\n",
    "assert dfall.query('env == \"stable\"').trialwpertstage_wb.max() < 60"
   ]
  },
  {
   "cell_type": "code",
   "execution_count": null,
   "id": "93ac92de-7351-437e-85fa-acdd4189bb50",
   "metadata": {},
   "outputs": [],
   "source": [
    "#print( dfall['subject_ind'].unique() )\n",
    "dfall_os = dfall.query('subject_ind == 1').copy()\n",
    "assert len(dfall_os) > 600, len(dfall_os)"
   ]
  },
  {
   "cell_type": "code",
   "execution_count": null,
   "id": "a4d19449",
   "metadata": {},
   "outputs": [],
   "source": [
    "from figure.plots import Fig2_annotate_segments\n",
    "tr = np.arange(len(pert))\n",
    "c = 1 / np.pi  * 180\n",
    "svg_files = []\n",
    "qs = None\n",
    "for lablet,varn,pertc,figsz,y_tl,y_title in [('A', 'error_pscadj', 1.,(12,10),1.15, 1.48), \n",
    "                   ('B', 'err_sens', 0.06,(12,4),1.,1.)]:\n",
    "\n",
    "    varn_eff = varn\n",
    "    if varn.startswith('org_feedback'):\n",
    "        dfall_os['vtp'] = np.array(dfall_os[varn]) * c# - 180\n",
    "        varn_eff = 'vtp'\n",
    "    elif varn.startswith('error'):\n",
    "        dfall_os['vtp'] = np.array(dfall_os[varn]) * c \n",
    "        varn_eff = 'vtp'\n",
    "\n",
    "    plt.figure(figsize=figsz)\n",
    "    fg = sns.relplot(data=dfall_os,\n",
    "        kind='line', x=\"trials\", y=varn_eff, \n",
    "         estimator='mean', errorbar='sd', height = 4, aspect=2.5)\n",
    "\n",
    "    if varn == 'error_pscadj':\n",
    "        Fig2_annotate_segments(fg.ax, dfall_os, qs, category_col='ps2_', rotation_angle=60,\n",
    "            ps_2nice = ps_2nice, text_size = 12, text_y_position = 35, x_shift=-8)\n",
    "    else:\n",
    "        Fig2_annotate_segments(fg.ax, dfall_os, qs, category_col='ps2_', \n",
    "            ps_2nice = ps_2nice, show_text = False)\n",
    "\n",
    "\n",
    "    for ax in fg.axes.flatten():\n",
    "        ax.plot(tr, pert * pertc, c='violet', ls= '--', lw=4)\n",
    "        #ax.plot(tr, envv * 30 * pertc, c='black', lw=0, marker='.' ,alpha=0.2)\n",
    "        #ax.set_title(f'{varn}  {truncs}')\n",
    "        ax.set_ylabel(varn )\n",
    "    if varn.startswith('error_'):\n",
    "        fg.set_ylabels('Angular error [deg]')\n",
    "        fg.set_titles('Error dynamics', y =y_title)\n",
    "    else:\n",
    "        fg.set_ylabels('Error sensitivity')\n",
    "        fg.set_titles('Error sensitivity dynamics')\n",
    "    fg.set_xlabels('Trial number')\n",
    " \n",
    "    #addTitleInfo(fg.axes.flatten()[0])\n",
    "    # ax.annotate(lablet, xy=(0, y_title), xytext=(-60, 20), \n",
    "    #   fontsize=19, fontweight='bold', va='top', ha='left',\n",
    "    #   xycoords='axes fraction', textcoords='offset points')\n",
    "    ax.axhline(0, color='black', lw=1, ls='--')\n",
    "\n",
    "    fign = 'Fig2_os'+lablet\n",
    "    fnfbase = pjoin(path_fig, 'behav',fign )\n",
    "    fnfsvg = fnfbase + '.svg'\n",
    "    #plt.tight_layout(rect=[0,0,1,y_tl])\n",
    "    plt.tight_layout()\n",
    "    plt.savefig(fnfsvg, bbox_inches='tight')\n",
    "    plt.savefig(fnfbase + '.pdf')\n",
    "    plt.close()\n",
    "\n",
    "    svg_files += [fnfsvg]\n",
    "\n",
    "from figure.imgfilemanip import *\n",
    "#svg_files = [pjoin(path_fig, 'behav','Fig2'+lablet + '.svg') for lablet in ['A','B'] ]\n",
    "print(svg_files)\n",
    "fnfout = pjoin(path_fig, 'behav',pjoin(path_fig, 'behav','Fig2AB' + '.svg'))\n",
    "stackSVGandShowJupy(svg_files, 'vertical', fnfout)"
   ]
  },
  {
   "cell_type": "code",
   "execution_count": null,
   "id": "a4d5d5ba-9fbd-44b4-85c8-7d8710716f41",
   "metadata": {},
   "outputs": [],
   "source": [
    "display(svg_files)\n",
    "svg2png(svg_files[0], dpi=300)"
   ]
  }
 ],
 "metadata": {
  "celltoolbar": "Tags",
  "kernelspec": {
   "display_name": "error-sensitivity-across-space-time-var",
   "language": "python",
   "name": "python3"
  },
  "language_info": {
   "codemirror_mode": {
    "name": "ipython",
    "version": 3
   },
   "file_extension": ".py",
   "mimetype": "text/x-python",
   "name": "python",
   "nbconvert_exporter": "python",
   "pygments_lexer": "ipython3",
   "version": "3.12.3"
  }
 },
 "nbformat": 4,
 "nbformat_minor": 5
}
